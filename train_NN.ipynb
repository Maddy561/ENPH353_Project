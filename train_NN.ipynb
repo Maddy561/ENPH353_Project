{
  "nbformat": 4,
  "nbformat_minor": 0,
  "metadata": {
    "colab": {
      "name": "train_NN.ipynb",
      "provenance": [],
      "collapsed_sections": []
    },
    "kernelspec": {
      "name": "python3",
      "display_name": "Python 3"
    },
    "language_info": {
      "name": "python"
    },
    "accelerator": "GPU",
    "widgets": {
      "application/vnd.jupyter.widget-state+json": {
        "7b7c4a6659aa423ca00e43b36db5286e": {
          "model_module": "@jupyter-widgets/controls",
          "model_name": "VBoxModel",
          "model_module_version": "1.5.0",
          "state": {
            "_dom_classes": [
              "widget-interact"
            ],
            "_model_module": "@jupyter-widgets/controls",
            "_model_module_version": "1.5.0",
            "_model_name": "VBoxModel",
            "_view_count": null,
            "_view_module": "@jupyter-widgets/controls",
            "_view_module_version": "1.5.0",
            "_view_name": "VBoxView",
            "box_style": "",
            "children": [
              "IPY_MODEL_56278518f9ea4a79a800b46b484d5db8",
              "IPY_MODEL_91a5688ee0b249c48a0637cdeccf6dec"
            ],
            "layout": "IPY_MODEL_c5f606a186fe405697a71d045ba62315"
          }
        },
        "56278518f9ea4a79a800b46b484d5db8": {
          "model_module": "@jupyter-widgets/controls",
          "model_name": "IntSliderModel",
          "model_module_version": "1.5.0",
          "state": {
            "_dom_classes": [],
            "_model_module": "@jupyter-widgets/controls",
            "_model_module_version": "1.5.0",
            "_model_name": "IntSliderModel",
            "_view_count": null,
            "_view_module": "@jupyter-widgets/controls",
            "_view_module_version": "1.5.0",
            "_view_name": "IntSliderView",
            "continuous_update": true,
            "description": "index",
            "description_tooltip": null,
            "disabled": false,
            "layout": "IPY_MODEL_394b08ecc92341a2b327f94458dec712",
            "max": 930,
            "min": 0,
            "orientation": "horizontal",
            "readout": true,
            "readout_format": "d",
            "step": 1,
            "style": "IPY_MODEL_baed32e1826e434a8ef04a271dbf862a",
            "value": 434
          }
        },
        "91a5688ee0b249c48a0637cdeccf6dec": {
          "model_module": "@jupyter-widgets/output",
          "model_name": "OutputModel",
          "model_module_version": "1.0.0",
          "state": {
            "_dom_classes": [],
            "_model_module": "@jupyter-widgets/output",
            "_model_module_version": "1.0.0",
            "_model_name": "OutputModel",
            "_view_count": null,
            "_view_module": "@jupyter-widgets/output",
            "_view_module_version": "1.0.0",
            "_view_name": "OutputView",
            "layout": "IPY_MODEL_0e43fd8a17d54ce997ebd19a4ea301b6",
            "msg_id": "",
            "outputs": [
              {
                "output_type": "stream",
                "name": "stdout",
                "text": [
                  "Truth:\n",
                  "\n",
                  "25\n",
                  "\n",
                  "Predicted:\n",
                  "\n",
                  "25\n"
                ]
              },
              {
                "output_type": "display_data",
                "data": {
                  "text/plain": "<Figure size 432x288 with 1 Axes>",
                  "image/png": "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\n"
                },
                "metadata": {
                  "needs_background": "light"
                }
              }
            ]
          }
        },
        "c5f606a186fe405697a71d045ba62315": {
          "model_module": "@jupyter-widgets/base",
          "model_name": "LayoutModel",
          "model_module_version": "1.2.0",
          "state": {
            "_model_module": "@jupyter-widgets/base",
            "_model_module_version": "1.2.0",
            "_model_name": "LayoutModel",
            "_view_count": null,
            "_view_module": "@jupyter-widgets/base",
            "_view_module_version": "1.2.0",
            "_view_name": "LayoutView",
            "align_content": null,
            "align_items": null,
            "align_self": null,
            "border": null,
            "bottom": null,
            "display": null,
            "flex": null,
            "flex_flow": null,
            "grid_area": null,
            "grid_auto_columns": null,
            "grid_auto_flow": null,
            "grid_auto_rows": null,
            "grid_column": null,
            "grid_gap": null,
            "grid_row": null,
            "grid_template_areas": null,
            "grid_template_columns": null,
            "grid_template_rows": null,
            "height": null,
            "justify_content": null,
            "justify_items": null,
            "left": null,
            "margin": null,
            "max_height": null,
            "max_width": null,
            "min_height": null,
            "min_width": null,
            "object_fit": null,
            "object_position": null,
            "order": null,
            "overflow": null,
            "overflow_x": null,
            "overflow_y": null,
            "padding": null,
            "right": null,
            "top": null,
            "visibility": null,
            "width": null
          }
        },
        "394b08ecc92341a2b327f94458dec712": {
          "model_module": "@jupyter-widgets/base",
          "model_name": "LayoutModel",
          "model_module_version": "1.2.0",
          "state": {
            "_model_module": "@jupyter-widgets/base",
            "_model_module_version": "1.2.0",
            "_model_name": "LayoutModel",
            "_view_count": null,
            "_view_module": "@jupyter-widgets/base",
            "_view_module_version": "1.2.0",
            "_view_name": "LayoutView",
            "align_content": null,
            "align_items": null,
            "align_self": null,
            "border": null,
            "bottom": null,
            "display": null,
            "flex": null,
            "flex_flow": null,
            "grid_area": null,
            "grid_auto_columns": null,
            "grid_auto_flow": null,
            "grid_auto_rows": null,
            "grid_column": null,
            "grid_gap": null,
            "grid_row": null,
            "grid_template_areas": null,
            "grid_template_columns": null,
            "grid_template_rows": null,
            "height": null,
            "justify_content": null,
            "justify_items": null,
            "left": null,
            "margin": null,
            "max_height": null,
            "max_width": null,
            "min_height": null,
            "min_width": null,
            "object_fit": null,
            "object_position": null,
            "order": null,
            "overflow": null,
            "overflow_x": null,
            "overflow_y": null,
            "padding": null,
            "right": null,
            "top": null,
            "visibility": null,
            "width": null
          }
        },
        "baed32e1826e434a8ef04a271dbf862a": {
          "model_module": "@jupyter-widgets/controls",
          "model_name": "SliderStyleModel",
          "model_module_version": "1.5.0",
          "state": {
            "_model_module": "@jupyter-widgets/controls",
            "_model_module_version": "1.5.0",
            "_model_name": "SliderStyleModel",
            "_view_count": null,
            "_view_module": "@jupyter-widgets/base",
            "_view_module_version": "1.2.0",
            "_view_name": "StyleView",
            "description_width": "",
            "handle_color": null
          }
        },
        "0e43fd8a17d54ce997ebd19a4ea301b6": {
          "model_module": "@jupyter-widgets/base",
          "model_name": "LayoutModel",
          "model_module_version": "1.2.0",
          "state": {
            "_model_module": "@jupyter-widgets/base",
            "_model_module_version": "1.2.0",
            "_model_name": "LayoutModel",
            "_view_count": null,
            "_view_module": "@jupyter-widgets/base",
            "_view_module_version": "1.2.0",
            "_view_name": "LayoutView",
            "align_content": null,
            "align_items": null,
            "align_self": null,
            "border": null,
            "bottom": null,
            "display": null,
            "flex": null,
            "flex_flow": null,
            "grid_area": null,
            "grid_auto_columns": null,
            "grid_auto_flow": null,
            "grid_auto_rows": null,
            "grid_column": null,
            "grid_gap": null,
            "grid_row": null,
            "grid_template_areas": null,
            "grid_template_columns": null,
            "grid_template_rows": null,
            "height": null,
            "justify_content": null,
            "justify_items": null,
            "left": null,
            "margin": null,
            "max_height": null,
            "max_width": null,
            "min_height": null,
            "min_width": null,
            "object_fit": null,
            "object_position": null,
            "order": null,
            "overflow": null,
            "overflow_x": null,
            "overflow_y": null,
            "padding": null,
            "right": null,
            "top": null,
            "visibility": null,
            "width": null
          }
        }
      }
    }
  },
  "cells": [
    {
      "cell_type": "code",
      "execution_count": null,
      "metadata": {
        "id": "0CQ0hqRlBV9f"
      },
      "outputs": [],
      "source": [
        "from collections import Counter\n",
        "import cv2\n",
        "import math\n",
        "import numpy as np\n",
        "import os\n",
        "from PIL import Image, ImageDraw\n",
        "import matplotlib.pyplot as plt\n",
        "import random\n",
        "from random import randint\n",
        "import re\n",
        "import string"
      ]
    },
    {
      "cell_type": "code",
      "source": [
        "from google.colab import drive\n",
        "drive.mount('/content/drive')"
      ],
      "metadata": {
        "id": "TF4p0sksUelw",
        "colab": {
          "base_uri": "https://localhost:8080/"
        },
        "outputId": "2874bed6-5af2-4fae-a332-5979040543c8"
      },
      "execution_count": null,
      "outputs": [
        {
          "output_type": "stream",
          "name": "stdout",
          "text": [
            "Drive already mounted at /content/drive; to attempt to forcibly remount, call drive.mount(\"/content/drive\", force_remount=True).\n"
          ]
        }
      ]
    },
    {
      "cell_type": "code",
      "source": [
        "PATH = \"/content/drive/My Drive/pics/\""
      ],
      "metadata": {
        "id": "5STQ3MtZUoV5"
      },
      "execution_count": null,
      "outputs": []
    },
    {
      "cell_type": "code",
      "source": [
        "def files_in_folder(folder_path):\n",
        "  '''\n",
        "  Returns a list of strings where each entry is a file in the folder_path.\n",
        "  \n",
        "  Parameters\n",
        "  ----------\n",
        "  \n",
        "  folder_path : str\n",
        "     A string to folder for which the file listing is returned.\n",
        "     \n",
        "  '''\n",
        "  files_A = !ls \"{folder_path}\"\n",
        "  # The files when listed from Google Drive have a particular format. They are\n",
        "  # grouped in sets of 4 and have spaces and tabs as delimiters.\n",
        "  \n",
        "  # Split the string listing sets of 4 files by tab and space and remove any \n",
        "  # empty splits.\n",
        "  files_B = [list(filter(None, re.split('\\t|\\s', files))) for files in files_A]\n",
        "  \n",
        "  # Concatenate all splits into a single sorted list\n",
        "  files_C = []\n",
        "  for element in files_B:\n",
        "    files_C = files_C + element\n",
        "  files_C.sort()\n",
        "  \n",
        "  return files_C"
      ],
      "metadata": {
        "id": "WQnjwBFRrV2J"
      },
      "execution_count": null,
      "outputs": []
    },
    {
      "cell_type": "code",
      "source": [
        "photos = files_in_folder(PATH)\n",
        "print(photos)\n",
        "# Shuffle the dataset\n",
        "np.random.shuffle(photos)"
      ],
      "metadata": {
        "id": "GXArrDc6UcpP",
        "colab": {
          "base_uri": "https://localhost:8080/"
        },
        "outputId": "19e23f38-fa54-45b0-d082-9cbff11a8175"
      },
      "execution_count": null,
      "outputs": [
        {
          "output_type": "stream",
          "name": "stdout",
          "text": [
            "['0_A_plate_AL07_0.png.png', '0_A_plate_AO60_0.png.png', '0_B_plate_BI90_1.png.png', '0_B_plate_BU03_1.png.png', '0_C_plate_CS20_0.png.png', '0_D_plate_DB00_0.png.png', '0_D_plate_DI80_1.png.png', '0_D_plate_DS40_0.png.png', '0_E_plate_ED30_0.png.png', '0_E_plate_EP00_1.png.png', '0_F_plate_FP30_0.png.png', '0_G_plate_GJ03_1.png.png', '0_G_plate_GZ09_1.png.png', '0_H_plate_HN07_2.png.png', '0_H_plate_HQ50_0.png.png', '0_H_plate_HW90_0.png.png', '0_I_plate_IJ08_1.png.png', '0_I_plate_IM08_1.png.png', '0_I_plate_IO10_0.png.png', '0_J_plate_JB08_0.png.png', '0_J_plate_JL70_1.png.png', '0_J_plate_JX09_1.png.png', '0_K_plate_KF80_0.png.png', '0_K_plate_KG60_0.png.png', '0_K_plate_KR40_1.png.png', '0_L_plate_LF07_1.png.png', '0_L_plate_LP05_1.png.png', '0_M_plate_MA00_0.png.png', '0_M_plate_MA00_1.png.png', '0_M_plate_MS70_0.png.png', '0_N_plate_NE40_0.png.png', '0_P_plate_PZ30.png.png', '0_Q_plate_QC20.png.png', '0_Q_plate_QR30.png.png', '0_R_plate_RL01.png.png', '0_R_plate_RL10.png.png', '0_R_plate_RY06.png.png', '0_T_plate_TA30.png.png', '0_U_plate_UK70.png.png', '0_U_plate_UO90.png.png', '0_U_plate_UP10.png.png', '0_X_plate_XW05.png.png', '0_Y_plate_YY30.png.png', '0_Z_plate_ZM04.png.png', '1_B_plate_BQ18_0.png.png', '1_B_plate_BX41_0.png.png', '1_B_plate_BX41_1.png.png', '1_D_plate_DF31_0.png.png', '1_D_plate_DF31_1.png.png', '1_D_plate_DH18_1.png.png', '1_D_plate_DK13_0.png.png', '1_E_plate_EQ31_2.png.png', '1_F_plate_FN12_0.png.png', '1_F_plate_FU17_1.png.png', '1_F_plate_FW31_0.png.png', '1_G_plate_GV31_1.png.png', '1_G_plate_GX61_0.png.png', '1_G_plate_GY11_1.png.png', '1_H_plate_HJ71_0.png.png', '1_I_plate_IM21_0.png.png', '1_J_plate_JE51_1.png.png', '1_J_plate_JH21_1.png.png', '1_J_plate_JI13_0.png.png', '1_J_plate_JL14_0.png.png', '1_J_plate_JM31_0.png.png', '1_K_plate_KL16_1.png.png', '1_K_plate_KP16_1.png.png', '1_K_plate_KT61_0.png.png', '1_L_plate_LR11_0.png.png', '1_M_plate_MH81_0.png.png', '1_M_plate_MI51_1.png.png', '1_R_plate_RR71.png.png', '1_R_plate_RZ21.png.png', '1_S_plate_SV13.png.png', '1_T_plate_TA91.png.png', '1_T_plate_TN51.png.png', '1_T_plate_TQ12.png.png', '1_U_plate_UC12.png.png', '1_U_plate_UU61.png.png', '1_U_plate_UZ13.png.png', '1_Y_plate_YD81.png.png', '1_Z_plate_ZB51.png.png', '1_Z_plate_ZZ10.png.png', '1_Z_plate_ZZ16.png.png', '2_A_plate_AG92_0.png.png', '2_A_plate_AK29_0.png.png', '2_A_plate_AU29_0.png.png', '2_B_plate_BB72_1.png.png', '2_B_plate_BD82_1.png.png', '2_B_plate_BS92_0.png.png', '2_B_plate_BX72_0.png.png', '2_B_plate_BX72_1.png.png', '2_C_plate_CR27_1.png.png', '2_D_plate_DA27_1.png.png', '2_D_plate_DE52_0.png.png', '2_D_plate_DI23_0.png.png', '2_F_plate_FE26_1.png.png', '2_F_plate_FI42_0.png.png', '2_G_plate_GE28_0.png.png', '2_H_plate_HN23_1.png.png', '2_H_plate_HS92_1.png.png', '2_H_plate_HT92_0.png.png', '2_I_plate_IE29_1.png.png', '2_I_plate_IM21_1.png.png', '2_I_plate_IM24_0.png.png', '2_I_plate_IQ24_0.png.png', '2_I_plate_IU20_0.png.png', '2_I_plate_IU23_0.png.png', '2_I_plate_IW92_1.png.png', '2_J_plate_JL02_0.png.png', '2_J_plate_JT52_0.png.png', '2_L_plate_LC02_0.png.png', '2_L_plate_LC32_1.png.png', '2_L_plate_LP32_0.png.png', '2_M_plate_MA28_1.png.png', '2_M_plate_MH02_0.png.png', '2_M_plate_MM25_1.png.png', '2_M_plate_MN72_0.png.png', '2_N_plate_NH20_1.png.png', '2_P_plate_PD29_0.png.png', '2_P_plate_PR62.png.png', '2_S_plate_ST24.png.png', '2_T_plate_TE27.png.png', '2_U_plate_UC12.png.png', '2_U_plate_UG32.png.png', '2_V_plate_VO25.png.png', '2_W_plate_WG23.png.png', '2_W_plate_WU28.png.png', '2_W_plate_WZ22.png.png', '2_X_plate_XF25.png.png', '2_X_plate_XW26.png.png', '2_Y_plate_YC42.png.png', '2_Y_plate_YE21.png.png', '2_Y_plate_YU42.png.png', '2_Y_plate_YW22.png.png', '2_Z_plate_ZE22.png.png', '2_Z_plate_ZL24.png.png', '3_A_plate_AE37_1.png.png', '3_A_plate_AK83_1.png.png', '3_A_plate_AP83_1.png.png', '3_A_plate_AQ35_0.png.png', '3_A_plate_AQ53_0.png.png', '3_A_plate_AT03_0.png.png', '3_B_plate_BD38_0.png.png', '3_B_plate_BU03_0.png.png', '3_B_plate_BW63_0.png.png', '3_C_plate_CC35_0.png.png', '3_C_plate_CI34_0.png.png', '3_D_plate_DF31_1.png.png', '3_D_plate_DI03_0.png.png', '3_D_plate_DK13_1.png.png', '3_D_plate_DM83_0.png.png', '3_D_plate_DS23_1.png.png', '3_D_plate_DT38_0.png.png', '3_D_plate_DX35_0.png.png', '3_E_plate_ED30_0.png.png', '3_G_plate_GH39_0.png.png', '3_G_plate_GL73_0.png.png', '3_G_plate_GN23_0.png.png', '3_G_plate_GN23_1.png.png', '3_G_plate_GP32_0.png.png', '3_G_plate_GV31_0.png.png', '3_G_plate_GV31_1.png.png', '3_G_plate_GY13_0.png.png', '3_H_plate_HI39_0.png.png', '3_H_plate_HN23_0.png.png', '3_H_plate_HN23_1.png.png', '3_H_plate_HR53_1.png.png', '3_J_plate_JI13_0.png.png', '3_J_plate_JK37_1.png.png', '3_J_plate_JM31_1.png.png', '3_K_plate_KS63_1.png.png', '3_L_plate_LB13_0.png.png', '3_L_plate_LC32_0.png.png', '3_L_plate_LL32_0.png.png', '3_L_plate_LL32_1.png.png', '3_L_plate_LX31_0.png.png', '3_M_plate_MF63_1.png.png', '3_M_plate_MO31_0.png.png', '3_M_plate_MQ73_0.png.png', '3_M_plate_MV32_1.png.png', '3_M_plate_MV53_1.png.png', '3_N_plate_NB43_1.png.png', '3_P_plate_PA39_0.png.png', '3_R_plate_RS63.png.png', '3_R_plate_RT33.png.png', '3_S_plate_SN33.png.png', '3_S_plate_SV13.png.png', '3_S_plate_SV83.png.png', '3_T_plate_TD23.png.png', '3_U_plate_UM35.png.png', '3_V_plate_VB31.png.png', '3_V_plate_VC39.png.png', '3_V_plate_VF43.png.png', '3_Z_plate_ZP13.png.png', '4_A_plate_AC04_0.png.png', '4_A_plate_AQ34_1.png.png', '4_A_plate_AS24_1.png.png', '4_B_plate_BA46_0.png.png', '4_B_plate_BQ64_1.png.png', '4_B_plate_BX84_1.png.png', '4_C_plate_CB74_1.png.png', '4_C_plate_CL84_0.png.png', '4_C_plate_CL84_1.png.png', '4_D_plate_DI04_1.png.png', '4_E_plate_ED40_0.png.png', '4_E_plate_EH34_0.png.png', '4_E_plate_EK64_0.png.png', '4_E_plate_EK64_1.png.png', '4_G_plate_GT74_0.png.png', '4_G_plate_GT74_1.png.png', '4_H_plate_HJ44_0.png.png', '4_J_plate_JL14_0.png.png', '4_K_plate_KF46_0.png.png', '4_K_plate_KF46_1.png.png', '4_K_plate_KW84_1.png.png', '4_L_plate_LE45_0.png.png', '4_L_plate_LF94_0.png.png', '4_L_plate_LX54_1.png.png', '4_L_plate_LX64_0.png.png', '4_M_plate_MA47_0.png.png', '4_N_plate_NB43_0.png.png', '4_N_plate_NH43_0.png.png', '4_O_plate_OZ48_1.png.png', '4_R_plate_RQ48.png.png', '4_S_plate_ST24.png.png', '4_T_plate_TB24.png.png', '4_T_plate_TB94.png.png', '4_T_plate_TQ84.png.png', '4_T_plate_TR74.png.png', '4_T_plate_TU45.png.png', '4_U_plate_UP49.png.png', '4_V_plate_VD64.png.png', '4_V_plate_VF04.png.png', '4_V_plate_VQ42.png.png', '4_W_plate_WK45.png.png', '4_X_plate_XF04.png.png', '4_X_plate_XK14.png.png', '4_Y_plate_YC42.png.png', '4_Z_plate_ZF94.png.png', '4_Z_plate_ZL24.png.png', '5_A_plate_AA58_0.png.png', '5_A_plate_AE58_1.png.png', '5_B_plate_BJ85_0.png.png', '5_B_plate_BK05_0.png.png', '5_B_plate_BT05_0.png.png', '5_B_plate_BW35_2.png.png', '5_C_plate_CC35_1.png.png', '5_C_plate_CD95_1.png.png', '5_D_plate_DW65_0.png.png', '5_E_plate_EY58_0.png.png', '5_E_plate_EZ54_1.png.png', '5_F_plate_FE53_1.png.png', '5_G_plate_GF15_0.png.png', '5_G_plate_GG53_0.png.png', '5_G_plate_GG54_0.png.png', '5_H_plate_HB45_0.png.png', '5_H_plate_HQ50_0.png.png', '5_H_plate_HU85_1.png.png', '5_I_plate_IC05_0.png.png', '5_I_plate_IX35_0.png.png', '5_J_plate_JD65_1.png.png', '5_J_plate_JE51_0.png.png', '5_K_plate_KH95_0.png.png', '5_M_plate_MI51_1.png.png', '5_M_plate_MM25_0.png.png', '5_M_plate_MV53_1.png.png', '5_N_plate_ND85_1.png.png', '5_N_plate_NE59_1.png.png', '5_O_plate_OW57_0.png.png', '5_P_plate_PU53.png.png', '5_Q_plate_QZ95.png.png', '5_R_plate_RA55.png.png', '5_R_plate_RC15.png.png', '5_R_plate_RZ59.png.png', '5_S_plate_SD57.png.png', '5_S_plate_SN75.png.png', '5_S_plate_SW59.png.png', '5_T_plate_TH52.png.png', '5_T_plate_TN25.png.png', '5_T_plate_TN51.png.png', '5_V_plate_VP85.png.png', '5_W_plate_WK45.png.png', '5_X_plate_XB52.png.png', '5_Y_plate_YJ05.png.png', '5_Y_plate_YS55.png.png', '5_Y_plate_YU57.png.png', '5_Z_plate_ZF54.png.png', '5_Z_plate_ZU50.png.png', '6_A_plate_AA67_0.png.png', '6_A_plate_AC65_0.png.png', '6_A_plate_AC96_1.png.png', '6_A_plate_AD76_1.png.png', '6_B_plate_BA46_1.png.png', '6_B_plate_BU06_0.png.png', '6_B_plate_BU06_1.png.png', '6_C_plate_CY60_0.png.png', '6_D_plate_DH68_0.png.png', '6_D_plate_DJ16_1.png.png', '6_D_plate_DN96_0.png.png', '6_F_plate_FJ46_0.png.png', '6_F_plate_FP56_0.png.png', '6_F_plate_FX36_1.png.png', '6_G_plate_GB16_1.png.png', '6_G_plate_GN67_1.png.png', '6_H_plate_HT63_0.png.png', '6_H_plate_HV66_0.png.png', '6_I_plate_IK26_0.png.png', '6_I_plate_IL69_1.png.png', '6_I_plate_IT86_0.png.png', '6_J_plate_JD65_1.png.png', '6_K_plate_KB46_2.png.png', '6_K_plate_KL16_0.png.png', '6_L_plate_LC16_0.png.png', '6_L_plate_LF26_0.png.png', '6_L_plate_LT66_1.png.png', '6_M_plate_MO36_0.png.png', '6_N_plate_NF66_0.png.png', '6_O_plate_OZ16_1.png.png', '6_P_plate_PR62_0.png.png', '6_Q_plate_QA86.png.png', '6_R_plate_RE60.png.png', '6_S_plate_SB16.png.png', '6_S_plate_SD46.png.png', '6_T_plate_TF67.png.png', '6_T_plate_TG66.png.png', '6_T_plate_TU65.png.png', '6_V_plate_VW06.png.png', '6_W_plate_WD56.png.png', '6_W_plate_WS66.png.png', '6_W_plate_WX65.png.png', '6_X_plate_XA86.png.png', '6_X_plate_XM06.png.png', '6_Y_plate_YW67.png.png', '6_Z_plate_ZQ36.png.png', '7_A_plate_AA67_0.png.png', '7_A_plate_AD07_0.png.png', '7_A_plate_AE37_1.png.png', '7_A_plate_AF73_1.png.png', '7_A_plate_AM79_1.png.png', '7_B_plate_BB72_1.png.png', '7_B_plate_BX72_0.png.png', '7_B_plate_BX72_1.png.png', '7_D_plate_DV75_0.png.png', '7_D_plate_DZ70_0.png.png', '7_E_plate_EC87_1.png.png', '7_E_plate_EO75_0.png.png', '7_E_plate_ET57_0.png.png', '7_E_plate_EY27_0.png.png', '7_F_plate_FP79_0.png.png', '7_F_plate_FS70_1.png.png', '7_F_plate_FU17_0.png.png', '7_F_plate_FV70_1.png.png', '7_G_plate_GA76_0.png.png', '7_G_plate_GO71_0.png.png', '7_H_plate_HK71_0.png.png', '7_I_plate_IP07_0.png.png', '7_I_plate_IX74_1.png.png', '7_J_plate_JC74_0.png.png', '7_J_plate_JK37_0.png.png', '7_J_plate_JL70_0.png.png', '7_K_plate_KY78_1.png.png', '7_L_plate_LJ47_1.png.png', '7_L_plate_LP07_0.png.png', '7_L_plate_LX72_0.png.png', '7_N_plate_NE71_1.png.png', '7_O_plate_OW57_1.png.png', '7_P_plate_PH77.png.png', '7_R_plate_RR71.png.png', '7_S_plate_SD57.png.png', '7_T_plate_TB78.png.png', '7_T_plate_TR74.png.png', '7_X_plate_XE17.png.png', '7_Y_plate_YJ74.png.png', '7_Y_plate_YL71.png.png', '7_Y_plate_YU72.png.png', '7_Z_plate_ZN07.png.png', '8_A_plate_AA58_1.png.png', '8_A_plate_AH58_1.png.png', '8_A_plate_AK83_0.png.png', '8_B_plate_BD38_0.png.png', '8_B_plate_BQ18_1.png.png', '8_C_plate_CL68_0.png.png', '8_C_plate_CL83_0.png.png', '8_C_plate_CL84_1.png.png', '8_C_plate_CQ38_0.png.png', '8_C_plate_CQ38_1.png.png', '8_D_plate_DI80_2.png.png', '8_D_plate_DT38_0.png.png', '8_D_plate_DV48_0.png.png', '8_E_plate_EA88_1.png.png', '8_E_plate_EL28_1.png.png', '8_F_plate_FF28_0.png.png', '8_F_plate_FF38_0.png.png', '8_G_plate_GD84_0.png.png', '8_G_plate_GE28_0.png.png', '8_G_plate_GL88_1.png.png', '8_H_plate_HA58_0.png.png', '8_H_plate_HH85_0.png.png', '8_H_plate_HM48_0.png.png', '8_H_plate_HR88_1.png.png', '8_I_plate_IE86_0.png.png', '8_I_plate_IM08_0.png.png', '8_I_plate_IZ88_0.png.png', '8_I_plate_IZ88_1.png.png', '8_J_plate_JB08_0.png.png', '8_K_plate_KA58_0.png.png', '8_K_plate_KF80_0.png.png', '8_K_plate_KF80_1.png.png', '8_K_plate_KT28_0.png.png', '8_L_plate_LJ28_1.png.png', '8_M_plate_MC98_0.png.png', '8_M_plate_MP86_0.png.png', '8_M_plate_MW84_0.png.png', '8_O_plate_OY84_0.png.png', '8_O_plate_OY84_1.png.png', '8_P_plate_PI38.png.png', '8_Q_plate_QA86.png.png', '8_R_plate_RQ48.png.png', '8_S_plate_SM48.png.png', '8_S_plate_SV83.png.png', '8_S_plate_SX82.png.png', '8_T_plate_TO80.png.png', '8_V_plate_VI48.png.png', '8_V_plate_VV89.png.png', '8_X_plate_XD18.png.png', '9_A_plate_AC96_1.png.png', '9_A_plate_AM79_0.png.png', '9_A_plate_AU29_0.png.png', '9_B_plate_BI90_0.png.png', '9_B_plate_BS92_0.png.png', '9_C_plate_CL92_0.png.png', '9_E_plate_EW19_0.png.png', '9_F_plate_FB91_0.png.png', '9_F_plate_FB91_1.png.png', '9_F_plate_FG96_1.png.png', '9_G_plate_GZ09_0.png.png', '9_H_plate_HT92_0.png.png', '9_H_plate_HW90_1.png.png', '9_I_plate_IJ89_0.png.png', '9_J_plate_JM39_0.png.png', '9_J_plate_JM39_1.png.png', '9_J_plate_JV91_0.png.png', '9_J_plate_JV91_1.png.png', '9_J_plate_JX09_1.png.png', '9_L_plate_LF94_1.png.png', '9_L_plate_LV69_0.png.png', '9_M_plate_MU29_0.png.png', '9_N_plate_NB95_0.png.png', '9_N_plate_NE59_1.png.png', '9_P_plate_PC19_0.png.png', '9_P_plate_PG90.png.png', '9_P_plate_PH97.png.png', '9_P_plate_PQ92.png.png', '9_R_plate_RH19.png.png', '9_T_plate_TA91.png.png', '9_U_plate_UM94.png.png', '9_U_plate_UQ90.png.png', '9_X_plate_XA99.png.png', '9_X_plate_XS69.png.png', '9_X_plate_XV93.png.png', 'A_A_plate_AA58_0.png.png', 'A_A_plate_AA63_0.png.png', 'A_A_plate_AC04_0.png.png', 'A_A_plate_AC55_1.png.png', 'A_A_plate_AC65_0.png.png', 'A_A_plate_AC96_0.png.png', 'A_A_plate_AE37_0.png.png', 'A_A_plate_AF73_1.png.png', 'A_A_plate_AH58_1.png.png', 'A_A_plate_AL53_1.png.png', 'A_A_plate_AQ34_0.png.png', 'A_A_plate_AQ35_0.png.png', 'A_A_plate_AS24_0.png.png', 'A_A_plate_AT02_0.png.png', 'A_A_plate_AT31_0.png.png', 'A_A_plate_AU29_0.png.png', 'A_A_plate_AU96_0.png.png', 'A_A_plate_AU96_1.png.png', 'A_A_plate_AX55_0.png.png', 'A_A_plate_AY94_0.png.png', 'A_B_plate_BA46_0.png.png', 'A_F_plate_FA32_0.png.png', 'A_G_plate_GA76_0.png.png', 'A_K_plate_KA23_0.png.png', 'A_K_plate_KA82_1.png.png', 'A_L_plate_LA46_0.png.png', 'A_L_plate_LA76_0.png.png', 'A_L_plate_LA91_0.png.png', 'A_M_plate_MA76_0.png.png', 'A_Q_plate_QA86.png.png', 'A_U_plate_UA09.png.png', 'A_V_plate_VA14.png.png', 'B_B_plate_BA46_1.png.png', 'B_B_plate_BD71_1.png.png', 'B_B_plate_BF82_1.png.png', 'B_B_plate_BH17_0.png.png', 'B_B_plate_BQ18_0.png.png', 'B_B_plate_BQ90_1.png.png', 'B_B_plate_BS59_0.png.png', 'B_B_plate_BU06_0.png.png', 'B_B_plate_BW35_0.png.png', 'B_B_plate_BX72_0.png.png', 'B_B_plate_BX72_1.png.png', 'B_F_plate_FB91_0.png.png', 'B_G_plate_GB16_0.png.png', 'B_H_plate_HB79_0.png.png', 'B_J_plate_JB08_0.png.png', 'B_K_plate_KB46_2.png.png', 'B_L_plate_LB13_1.png.png', 'B_N_plate_NB04_0.png.png', 'B_N_plate_NB80_1.png.png', 'B_S_plate_SB16.png.png', 'B_T_plate_TB94.png.png', 'B_Z_plate_ZB47.png.png', 'C_A_plate_AC65_0.png.png', 'C_A_plate_AC96_1.png.png', 'C_C_plate_CA96_0.png.png', 'C_C_plate_CC02_0.png.png', 'C_C_plate_CD17_0.png.png', 'C_C_plate_CD95_0.png.png', 'C_C_plate_CD95_1.png.png', 'C_C_plate_CK99_0.png.png', 'C_C_plate_CL84_0.png.png', 'C_C_plate_CL92_0.png.png', 'C_C_plate_CN84_0.png.png', 'C_C_plate_CR00_0.png.png', 'C_C_plate_CS20_0.png.png', 'C_C_plate_CX88_1.png.png', 'C_C_plate_CY55_0.png.png', 'C_C_plate_CY60_1.png.png', 'C_E_plate_EC87_0.png.png', 'C_F_plate_FC37_0.png.png', 'C_F_plate_FC37_1.png.png', 'C_M_plate_MC98_0.png.png', 'C_N_plate_NC74_0.png.png', 'C_P_plate_PC19_1.png.png', 'C_R_plate_RC15.png.png', 'D_A_plate_AD76_0.png.png', 'D_D_plate_DB00_0.png.png', 'D_D_plate_DD04_2.png.png', 'D_D_plate_DD76_0.png.png', 'D_D_plate_DH18_0.png.png', 'D_D_plate_DI03_0.png.png', 'D_D_plate_DI04_0.png.png', 'D_D_plate_DI04_1.png.png', 'D_D_plate_DI42_0.png.png', 'D_D_plate_DI80_2.png.png', 'D_D_plate_DJ16_1.png.png', 'D_D_plate_DM83_0.png.png', 'D_D_plate_DQ14_0.png.png', 'D_D_plate_DS40_0.png.png', 'D_D_plate_DT73_1.png.png', 'D_D_plate_DW65_0.png.png', 'D_D_plate_DX35_0.png.png', 'D_D_plate_DY93_0.png.png', 'D_G_plate_GD84_0.png.png', 'D_K_plate_KD74_0.png.png', 'D_N_plate_ND29_0.png.png', 'D_N_plate_ND29_1.png.png', 'D_N_plate_ND85_0.png.png', 'D_N_plate_ND85_1.png.png', 'D_V_plate_VD64.png.png', 'D_X_plate_XD96.png.png', 'E_D_plate_DE52_0.png.png', 'E_E_plate_EC87_1.png.png', 'E_E_plate_EE34_1.png.png', 'E_E_plate_EK64_0.png.png', 'E_E_plate_EK64_1.png.png', 'E_E_plate_EQ31_0.png.png', 'E_E_plate_EQ87_0.png.png', 'E_E_plate_ER97_1.png.png', 'E_E_plate_ET57_0.png.png', 'E_E_plate_EX66_0.png.png', 'E_E_plate_EY44_0.png.png', 'E_E_plate_EY44_1.png.png', 'E_F_plate_FE26_1.png.png', 'E_F_plate_FE53_1.png.png', 'E_G_plate_GE28_0.png.png', 'E_L_plate_LE96_1.png.png', 'E_N_plate_NE71_1.png.png', 'E_R_plate_RE60.png.png', 'E_Z_plate_ZE22.png.png', 'F_B_plate_BF22_1.png.png', 'F_B_plate_BF82_0.png.png', 'F_B_plate_BF82_1.png.png', 'F_D_plate_DF31_1.png.png', 'F_F_plate_FA32_0.png.png', 'F_F_plate_FE26_0.png.png', 'F_F_plate_FE53_1.png.png', 'F_F_plate_FG32_0.png.png', 'F_F_plate_FM42_0.png.png', 'F_F_plate_FO78_0.png.png', 'F_F_plate_FO78_1.png.png', 'F_F_plate_FP30_1.png.png', 'F_F_plate_FS70_1.png.png', 'F_F_plate_FU17_0.png.png', 'F_F_plate_FX05_0.png.png', 'F_F_plate_FX50_0.png.png', 'F_H_plate_HF47_0.png.png', 'F_I_plate_IF52_0.png.png', 'F_L_plate_LF26_0.png.png', 'F_R_plate_RF90.png.png', 'F_X_plate_XF85.png.png', 'G_A_plate_AG09_0.png.png', 'G_C_plate_CG79_0.png.png', 'G_D_plate_DG36_0.png.png', 'G_F_plate_FG96_1.png.png', 'G_G_plate_GB16_1.png.png', 'G_G_plate_GB37_1.png.png', 'G_G_plate_GD84_1.png.png', 'G_G_plate_GH39_0.png.png', 'G_G_plate_GN23_1.png.png', 'G_G_plate_GN67_0.png.png', 'G_G_plate_GT26_1.png.png', 'G_G_plate_GY35_0.png.png', 'G_G_plate_GY80_0.png.png', 'G_G_plate_GZ09_0.png.png', 'G_Q_plate_QG41.png.png', 'G_T_plate_TG66.png.png', 'G_U_plate_UG32.png.png', 'G_U_plate_UG84.png.png', 'G_U_plate_UG86.png.png', 'G_W_plate_WG23.png.png', 'H_B_plate_BH17_1.png.png', 'H_D_plate_DH18_0.png.png', 'H_D_plate_DH18_1.png.png', 'H_H_plate_HA58_0.png.png', 'H_H_plate_HB45_0.png.png', 'H_H_plate_HM57_1.png.png', 'H_H_plate_HN23_1.png.png', 'H_H_plate_HN96_0.png.png', 'H_H_plate_HR85_0.png.png', 'H_H_plate_HU17_0.png.png', 'H_H_plate_HW90_1.png.png', 'H_H_plate_HZ46_1.png.png', 'H_K_plate_KH95_0.png.png', 'H_L_plate_LH98_0.png.png', 'H_M_plate_MH07_1.png.png', 'H_P_plate_PH77.png.png', 'H_U_plate_UH55.png.png', 'H_U_plate_UH65.png.png', 'H_U_plate_UH83.png.png', 'H_X_plate_XH35.png.png', 'I_B_plate_BI37_0.png.png', 'I_B_plate_BI90_0.png.png', 'I_D_plate_DI80_2.png.png', 'I_I_plate_IB13_0.png.png', 'I_I_plate_IB13_1.png.png', 'I_I_plate_II05_0.png.png', 'I_I_plate_IS00_0.png.png', 'I_I_plate_IS98_0.png.png', 'I_I_plate_IT86_1.png.png', 'I_I_plate_IW92_1.png.png', 'I_I_plate_IX35_0.png.png', 'I_I_plate_IX74_1.png.png', 'I_M_plate_MI16_0.png.png', 'I_P_plate_PI38.png.png', 'I_Q_plate_QI10.png.png', 'I_Y_plate_YI01.png.png', 'J_A_plate_AJ12_0.png.png', 'J_F_plate_FJ94_0.png.png', 'J_I_plate_IJ08_1.png.png', 'J_J_plate_JC74_0.png.png', 'J_J_plate_JE51_1.png.png', 'J_J_plate_JE70_0.png.png', 'J_J_plate_JI13_0.png.png', 'J_J_plate_JK51_0.png.png', 'J_J_plate_JL70_1.png.png', 'J_J_plate_JQ25_1.png.png', 'J_J_plate_JQ51_1.png.png', 'J_J_plate_JT52_0.png.png', 'J_J_plate_JU14_1.png.png', 'J_J_plate_JZ37_0.png.png', 'J_J_plate_JZ37_1.png.png', 'J_K_plate_KJ42_1.png.png', 'J_L_plate_LJ47_0.png.png', 'J_M_plate_MJ61_0.png.png', 'K_B_plate_BK22_1.png.png', 'K_B_plate_BK96_0.png.png', 'K_C_plate_CK95_0.png.png', 'K_C_plate_CK99_0.png.png', 'K_C_plate_CK99_1.png.png', 'K_F_plate_FK48_1.png.png', 'K_H_plate_HK44_0.png.png', 'K_I_plate_IK26_0.png.png', 'K_J_plate_JK37_1.png.png', 'K_K_plate_KA58_0.png.png', 'K_K_plate_KB46_1.png.png', 'K_K_plate_KB46_2.png.png', 'K_K_plate_KC59_1.png.png', 'K_K_plate_KF46_0.png.png', 'K_K_plate_KF80_1.png.png', 'K_K_plate_KJ91_1.png.png', 'K_K_plate_KM61_0.png.png', 'K_K_plate_KR40_0.png.png', 'K_K_plate_KS25_0.png.png', 'K_K_plate_KS63_0.png.png', 'K_K_plate_KT61_0.png.png', 'K_K_plate_KV10_0.png.png', 'K_K_plate_KW84_0.png.png', 'K_K_plate_KW84_2.png.png', 'K_U_plate_UK70.png.png', 'K_X_plate_XK14.png.png', 'K_X_plate_XK25.png.png', 'K_Y_plate_YK55.png.png', 'L_E_plate_EL28_1.png.png', 'L_J_plate_JL02_0.png.png', 'L_J_plate_JL14_0.png.png', 'L_L_plate_LF97_0.png.png', 'L_L_plate_LJ47_0.png.png', 'L_L_plate_LL59_0.png.png', 'L_L_plate_LL77_0.png.png', 'L_L_plate_LL77_1.png.png', 'L_L_plate_LO46_1.png.png', 'L_L_plate_LP05_1.png.png', 'L_L_plate_LP32_0.png.png', 'L_L_plate_LS12_0.png.png', 'L_L_plate_LT66_0.png.png', 'L_L_plate_LT66_1.png.png', 'L_L_plate_LX54_0.png.png', 'L_R_plate_RL01.png.png', 'L_Y_plate_YL71.png.png', 'L_Z_plate_ZL25.png.png', 'M_A_plate_AM79_1.png.png', 'M_C_plate_CM95_0.png.png', 'M_C_plate_CM95_1.png.png', 'M_H_plate_HM57_0.png.png', 'M_H_plate_HM73_0.png.png', 'M_I_plate_IM08_0.png.png', 'M_L_plate_LM80_0.png.png', 'M_M_plate_MA52_1.png.png', 'M_M_plate_ME23_0.png.png', 'M_M_plate_ME23_1.png.png', 'M_M_plate_MH81_0.png.png', 'M_M_plate_MJ61_0.png.png', 'M_M_plate_ML08_0.png.png', 'M_M_plate_MM25_0.png.png', 'M_M_plate_MN72_1.png.png', 'M_M_plate_MP84_0.png.png', 'M_M_plate_MQ33_1.png.png', 'M_M_plate_MS13_1.png.png', 'M_M_plate_MS70_1.png.png', 'M_Y_plate_YM79.png.png', 'N_A_plate_AN74_0.png.png', 'N_B_plate_BN82_0.png.png', 'N_H_plate_HN07_0.png.png', 'N_H_plate_HN07_1.png.png', 'N_H_plate_HN96_0.png.png', 'N_H_plate_HN96_1.png.png', 'N_I_plate_IN15_0.png.png', 'N_K_plate_KN66_0.png.png', 'N_L_plate_LN78_0.png.png', 'N_M_plate_MN72_0.png.png', 'N_M_plate_MN72_1.png.png', 'N_N_plate_NA94_0.png.png', 'N_N_plate_NB95_0.png.png', 'N_N_plate_ND85_0.png.png', 'N_N_plate_NE59_0.png.png', 'N_N_plate_NE93_1.png.png', 'N_N_plate_NF78_0.png.png', 'N_V_plate_VN80.png.png', 'O_A_plate_AO65_1.png.png', 'O_F_plate_FO44_0.png.png', 'O_G_plate_GO71_0.png.png', 'O_M_plate_MO91_1.png.png', 'O_O_plate_OX09_0.png.png', 'O_O_plate_OY84_0.png.png', 'O_O_plate_OZ16_1.png.png', 'O_R_plate_RO58.png.png', 'O_Z_plate_ZO72.png.png', 'P_F_plate_FP56_1.png.png', 'P_I_plate_IP60_1.png.png', 'P_L_plate_LP07_0.png.png', 'P_L_plate_LP07_1.png.png', 'P_P_plate_PA39_1.png.png', 'P_P_plate_PF61_2.png.png', 'P_P_plate_PM59.png.png', 'P_P_plate_PR62.png.png', 'P_P_plate_PR62_0.png.png', 'P_P_plate_PZ30.png.png', 'P_S_plate_SP57.png.png', 'P_U_plate_UP95.png.png', 'Q_A_plate_AQ34_0.png.png', 'Q_A_plate_AQ35_0.png.png', 'Q_C_plate_CQ04_1.png.png', 'Q_E_plate_EQ31_2.png.png', 'Q_E_plate_EQ87_1.png.png', 'Q_J_plate_JQ51_0.png.png', 'Q_J_plate_JQ51_1.png.png', 'Q_J_plate_JQ75_1.png.png', 'Q_Q_plate_QA86.png.png', 'Q_Q_plate_QE16.png.png', 'Q_Q_plate_QG41.png.png', 'Q_Q_plate_QJ84.png.png', 'Q_X_plate_XQ69.png.png', 'Q_Z_plate_ZQ36.png.png', 'R_C_plate_CR27_1.png.png', 'R_E_plate_ER97_0.png.png', 'R_F_plate_FR59_0.png.png', 'R_K_plate_KR40_0.png.png', 'R_K_plate_KR40_1.png.png', 'R_R_plate_RC15.png.png', 'R_R_plate_RK55.png.png', 'R_R_plate_RO38.png.png', 'R_R_plate_RS63.png.png', 'R_R_plate_RS80.png.png', 'R_R_plate_RY06.png.png', 'R_R_plate_RZ21.png.png', 'R_R_plate_RZ59.png.png', 'R_S_plate_SR12.png.png', 'S_D_plate_DS23_0.png.png', 'S_M_plate_MS12_0.png.png', 'S_M_plate_MS70_0.png.png', 'S_R_plate_RS80.png.png', 'S_S_plate_SB77.png.png', 'S_S_plate_SD46.png.png', 'S_S_plate_SG88.png.png', 'S_S_plate_SN33.png.png', 'S_S_plate_SN93.png.png', 'S_S_plate_SZ19.png.png', 'S_X_plate_XS69.png.png', 'S_Y_plate_YS53.png.png', 'T_D_plate_DT09_0.png.png', 'T_E_plate_ET57_1.png.png', 'T_I_plate_IT86_0.png.png', 'T_S_plate_ST08.png.png', 'T_T_plate_TB78.png.png', 'T_T_plate_TB87.png.png', 'T_T_plate_TC85.png.png', 'T_T_plate_TD32.png.png', 'T_T_plate_TE56.png.png', 'T_T_plate_TG23.png.png', 'T_T_plate_TN25.png.png', 'T_T_plate_TN51.png.png', 'T_T_plate_TQ84.png.png', 'T_T_plate_TS00.png.png', 'T_T_plate_TU65.png.png', 'T_U_plate_UT42.png.png', 'T_V_plate_VT90.png.png', 'U_B_plate_BU85_0.png.png', 'U_F_plate_FU17_0.png.png', 'U_F_plate_FU17_1.png.png', 'U_H_plate_HU17_0.png.png', 'U_H_plate_HU85_0.png.png', 'U_T_plate_TU45.png.png', 'U_U_plate_UG32.png.png', 'U_U_plate_UG52.png.png', 'U_U_plate_UG84.png.png', 'U_U_plate_UG86.png.png', 'U_U_plate_UH55.png.png', 'U_U_plate_UI94.png.png', 'U_U_plate_UJ00.png.png', 'U_U_plate_UM83.png.png', 'U_U_plate_UM94.png.png', 'U_U_plate_UP49.png.png', 'U_U_plate_UV15.png.png', 'U_Z_plate_ZU50.png.png', 'V_F_plate_FV70_1.png.png', 'V_F_plate_FV76_0.png.png', 'V_H_plate_HV66_0.png.png', 'V_I_plate_IV99_0.png.png', 'V_I_plate_IV99_1.png.png', 'V_I_plate_IV99_2.png.png', 'V_R_plate_RV67.png.png', 'V_V_plate_VB71.png.png', 'V_V_plate_VO25.png.png', 'V_Z_plate_ZV25.png.png', 'W_D_plate_DW65_0.png.png', 'W_I_plate_IW92_0.png.png', 'W_K_plate_KW84_0.png.png', 'W_O_plate_OW52_0.png.png', 'W_T_plate_TW57.png.png', 'W_W_plate_WB76.png.png', 'W_W_plate_WH58.png.png', 'W_W_plate_WK04.png.png', 'W_W_plate_WK86.png.png', 'W_W_plate_WQ96.png.png', 'W_W_plate_WR12.png.png', 'W_W_plate_WX77.png.png', 'W_X_plate_XW60.png.png', 'X_A_plate_AX22_0.png.png', 'X_A_plate_AX68_0.png.png', 'X_B_plate_BX41_0.png.png', 'X_B_plate_BX84_0.png.png', 'X_G_plate_GX61_0.png.png', 'X_I_plate_IX35_0.png.png', 'X_I_plate_IX74_0.png.png', 'X_I_plate_IX74_1.png.png', 'X_J_plate_JX09_1.png.png', 'X_R_plate_RX03.png.png', 'X_T_plate_TX47.png.png', 'X_X_plate_XA86.png.png', 'X_X_plate_XB52.png.png', 'X_X_plate_XD96.png.png', 'X_X_plate_XF85.png.png', 'X_X_plate_XI86.png.png', 'X_X_plate_XS69.png.png', 'X_X_plate_XU00.png.png', 'X_X_plate_XW26.png.png', 'X_X_plate_XZ32.png.png', 'Y_C_plate_CY33_0.png.png', 'Y_D_plate_DY28_0.png.png', 'Y_E_plate_EY44_0.png.png', 'Y_G_plate_GY35_0.png.png', 'Y_T_plate_TY25.png.png', 'Y_T_plate_TY59.png.png', 'Y_Y_plate_YJ05.png.png', 'Y_Y_plate_YL71.png.png', 'Y_Y_plate_YS53.png.png', 'Y_Y_plate_YT53.png.png', 'Y_Y_plate_YU55.png.png', 'Y_Y_plate_YW67.png.png', 'Z_B_plate_BZ87_0.png.png', 'Z_G_plate_GZ09_0.png.png', 'Z_H_plate_HZ46_0.png.png', 'Z_I_plate_IZ88_0.png.png', 'Z_J_plate_JZ37_1.png.png', 'Z_K_plate_KZ88_0.png.png', 'Z_Q_plate_QZ95.png.png', 'Z_R_plate_RZ21.png.png', 'Z_Z_plate_ZD79.png.png', 'Z_Z_plate_ZI55.png.png', 'Z_Z_plate_ZL10.png.png', 'Z_Z_plate_ZL24.png.png', 'Z_Z_plate_ZO72.png.png', 'Z_Z_plate_ZP13.png.png', 'Z_Z_plate_ZV87.png.png', 'Z_Z_plate_ZW90.png.png', 'Z_Z_plate_ZY75.png.png']\n"
          ]
        }
      ]
    },
    {
      "cell_type": "code",
      "source": [
        "datasetX = []\n",
        "datasetY = []"
      ],
      "metadata": {
        "id": "tPFvVYjg5Fev"
      },
      "execution_count": null,
      "outputs": []
    },
    {
      "cell_type": "code",
      "source": [
        "def convert_to_one_hot(Y, C):\n",
        "    Y = np.eye(C)[Y.reshape(-1)].T\n",
        "    return Y"
      ],
      "metadata": {
        "id": "623wCAU25SpA"
      },
      "execution_count": null,
      "outputs": []
    },
    {
      "cell_type": "code",
      "source": [
        "#print(np.concatenate(convert_to_one_hot(np.array([0]),36))[1])"
      ],
      "metadata": {
        "id": "y2gMuNywEsVZ"
      },
      "execution_count": null,
      "outputs": []
    },
    {
      "cell_type": "code",
      "source": [
        "for photo in photos:\n",
        "  datasetX.append((np.array(Image.open(f'{PATH}/{photo}')))/255)\n",
        "  if photo[0] == '0':\n",
        "    datasetY.append(np.concatenate(convert_to_one_hot(np.array([0]),36)))\n",
        "  elif photo[0] == '1':\n",
        "    datasetY.append(np.concatenate(convert_to_one_hot(np.array([1]),36)))  \n",
        "  elif photo[0] == '2':\n",
        "    datasetY.append(np.concatenate(convert_to_one_hot(np.array([2]),36)))\n",
        "  elif photo[0] == '3':\n",
        "    datasetY.append(np.concatenate(convert_to_one_hot(np.array([3]),36)))\n",
        "  elif photo[0] == '4':\n",
        "    datasetY.append(np.concatenate(convert_to_one_hot(np.array([4]),36)))\n",
        "  elif photo[0] == '5':\n",
        "    datasetY.append(np.concatenate(convert_to_one_hot(np.array([5]),36)))\n",
        "  elif photo[0] == '6':\n",
        "    datasetY.append(np.concatenate(convert_to_one_hot(np.array([6]),36)))\n",
        "  elif photo[0] == '7':\n",
        "    datasetY.append(np.concatenate(convert_to_one_hot(np.array([7]),36)))\n",
        "  elif photo[0] == '8':\n",
        "    datasetY.append(np.concatenate(convert_to_one_hot(np.array([8]),36)))\n",
        "  elif photo[0] == '9':\n",
        "    datasetY.append(np.concatenate(convert_to_one_hot(np.array([9]),36)))\n",
        "  elif photo[0] == 'A':\n",
        "    datasetY.append(np.concatenate(convert_to_one_hot(np.array([10]),36)))\n",
        "  elif photo[0] == 'B':\n",
        "    datasetY.append(np.concatenate(convert_to_one_hot(np.array([11]),36)))\n",
        "  elif photo[0] == 'C':\n",
        "    datasetY.append(np.concatenate(convert_to_one_hot(np.array([12]),36)))\n",
        "  elif photo[0] == 'D':\n",
        "    datasetY.append(np.concatenate(convert_to_one_hot(np.array([13]),36)))\n",
        "  elif photo[0] == 'E':\n",
        "    datasetY.append(np.concatenate(convert_to_one_hot(np.array([14]),36)))\n",
        "  elif photo[0] == 'F':\n",
        "    datasetY.append(np.concatenate(convert_to_one_hot(np.array([15]),36)))\n",
        "  elif photo[0] == 'G':\n",
        "    datasetY.append(np.concatenate(convert_to_one_hot(np.array([16]),36)))\n",
        "  elif photo[0] == 'H':\n",
        "    datasetY.append(np.concatenate(convert_to_one_hot(np.array([17]),36)))\n",
        "  elif photo[0] == 'I':\n",
        "    datasetY.append(np.concatenate(convert_to_one_hot(np.array([18]),36)))\n",
        "  elif photo[0] == 'J':\n",
        "    datasetY.append(np.concatenate(convert_to_one_hot(np.array([19]),36)))\n",
        "  elif photo[0] == 'K':  \n",
        "    datasetY.append(np.concatenate(convert_to_one_hot(np.array([20]),36)))\n",
        "  elif photo[0] == 'L':\n",
        "    datasetY.append(np.concatenate(convert_to_one_hot(np.array([21]),36)))\n",
        "  elif photo[0] == 'M':\n",
        "    datasetY.append(np.concatenate(convert_to_one_hot(np.array([22]),36)))\n",
        "  elif photo[0] == 'N':\n",
        "    datasetY.append(np.concatenate(convert_to_one_hot(np.array([23]),36)))\n",
        "  elif photo[0] == 'O':\n",
        "    datasetY.append(np.concatenate(convert_to_one_hot(np.array([24]),36)))\n",
        "  elif photo[0] == 'P':\n",
        "    datasetY.append(np.concatenate(convert_to_one_hot(np.array([25]),36)))\n",
        "  elif photo[0] == 'Q':\n",
        "    datasetY.append(np.concatenate(convert_to_one_hot(np.array([26]),36)))\n",
        "  elif photo[0] == 'R':\n",
        "    datasetY.append(np.concatenate(convert_to_one_hot(np.array([27]),36)))\n",
        "  elif photo[0] == 'S':\n",
        "    datasetY.append(np.concatenate(convert_to_one_hot(np.array([28]),36)))\n",
        "  elif photo[0] == 'T':\n",
        "    datasetY.append(np.concatenate(convert_to_one_hot(np.array([29]),36)))\n",
        "  elif photo[0] == 'U':\n",
        "    datasetY.append(np.concatenate(convert_to_one_hot(np.array([30]),36)))\n",
        "  elif photo[0] == 'V':\n",
        "    datasetY.append(np.concatenate(convert_to_one_hot(np.array([31]),36)))\n",
        "  elif photo[0] == 'W':\n",
        "    datasetY.append(np.concatenate(convert_to_one_hot(np.array([32]),36)))\n",
        "  elif photo[0] == 'X':\n",
        "    datasetY.append(np.concatenate(convert_to_one_hot(np.array([33]),36)))\n",
        "  elif photo[0] == 'Y':\n",
        "    datasetY.append(np.concatenate(convert_to_one_hot(np.array([34]),36)))\n",
        "  elif photo[0] == 'Z':\n",
        "    datasetY.append(np.concatenate(convert_to_one_hot(np.array([35]),36)))"
      ],
      "metadata": {
        "id": "VfPTxFMRsWAC"
      },
      "execution_count": null,
      "outputs": []
    },
    {
      "cell_type": "code",
      "source": [
        "#print(datasetX)\n",
        "#print(datasetY)\n",
        "#print(len(datasetX))\n",
        "#print(len(datasetY))\n",
        "print(np.asarray(datasetX).shape)\n",
        "print(np.asarray(datasetY)[0])"
      ],
      "metadata": {
        "id": "-ROOdGfl4myh",
        "colab": {
          "base_uri": "https://localhost:8080/"
        },
        "outputId": "931b8a2f-d450-4020-b9d2-1c17c437bd4b"
      },
      "execution_count": null,
      "outputs": [
        {
          "output_type": "stream",
          "name": "stdout",
          "text": [
            "(930, 298, 95, 3)\n",
            "[0. 0. 0. 0. 0. 0. 0. 0. 0. 0. 0. 0. 0. 0. 0. 0. 0. 0. 0. 0. 1. 0. 0. 0.\n",
            " 0. 0. 0. 0. 0. 0. 0. 0. 0. 0. 0. 0.]\n"
          ]
        }
      ]
    },
    {
      "cell_type": "code",
      "source": [
        "# Use tensorflow 1.x so it's compatible with ROS Melodic\n",
        "%tensorflow_version 1.14.0"
      ],
      "metadata": {
        "id": "mnL0Pko9-f5R",
        "colab": {
          "base_uri": "https://localhost:8080/"
        },
        "outputId": "fb2eb581-7ced-47f2-bbde-3e80534fe601"
      },
      "execution_count": null,
      "outputs": [
        {
          "output_type": "stream",
          "name": "stdout",
          "text": [
            "`%tensorflow_version` only switches the major version: 1.x or 2.x.\n",
            "You set: `1.14.0`. This will be interpreted as: `1.x`.\n",
            "\n",
            "\n",
            "TensorFlow 1.x selected.\n"
          ]
        }
      ]
    },
    {
      "cell_type": "code",
      "source": [
        "import tensorflow\n",
        "from tensorflow.keras import layers\n",
        "from tensorflow.keras import models\n",
        "from tensorflow.keras import optimizers\n",
        "\n",
        "from tensorflow.keras.utils import plot_model\n",
        "from tensorflow.keras import backend\n",
        "from sklearn.metrics import classification_report, confusion_matrix"
      ],
      "metadata": {
        "id": "EKuVF53RnWHh"
      },
      "execution_count": null,
      "outputs": []
    },
    {
      "cell_type": "code",
      "source": [
        "def reset_weights(model):\n",
        "    session = backend.get_session()\n",
        "    for layer in model.layers: \n",
        "        if hasattr(layer, 'kernel_initializer'):\n",
        "            layer.kernel.initializer.run(session=session)"
      ],
      "metadata": {
        "id": "IfcGfO_cnapy"
      },
      "execution_count": null,
      "outputs": []
    },
    {
      "cell_type": "code",
      "source": [
        "conv_model = models.Sequential()\n",
        "conv_model.add(layers.Conv2D(32, (3, 3), activation='relu',\n",
        "                             input_shape=(298, 95, 3)))\n",
        "conv_model.add(layers.MaxPooling2D((2, 2)))\n",
        "conv_model.add(layers.Conv2D(64, (3, 3), activation='relu'))\n",
        "conv_model.add(layers.MaxPooling2D((2, 2)))\n",
        "conv_model.add(layers.Flatten())\n",
        "conv_model.add(layers.Dropout(0.5))\n",
        "conv_model.add(layers.Dense(512, activation='relu'))\n",
        "conv_model.add(layers.Dense(36, activation='softmax'))"
      ],
      "metadata": {
        "colab": {
          "base_uri": "https://localhost:8080/"
        },
        "id": "9UftdiJ5Y7Cr",
        "outputId": "1bb117e9-ae44-4873-b29f-e461b5466b78"
      },
      "execution_count": null,
      "outputs": [
        {
          "output_type": "stream",
          "name": "stdout",
          "text": [
            "WARNING:tensorflow:From /tensorflow-1.15.2/python3.7/tensorflow_core/python/ops/resource_variable_ops.py:1630: calling BaseResourceVariable.__init__ (from tensorflow.python.ops.resource_variable_ops) with constraint is deprecated and will be removed in a future version.\n",
            "Instructions for updating:\n",
            "If using Keras pass *_constraint arguments to layers.\n"
          ]
        }
      ]
    },
    {
      "cell_type": "code",
      "source": [
        "LEARNING_RATE = 1e-4\n",
        "conv_model.compile(loss='categorical_crossentropy',\n",
        "                   optimizer=optimizers.RMSprop(lr=LEARNING_RATE),\n",
        "                   metrics=['acc'])"
      ],
      "metadata": {
        "id": "jP8YkhY-a3sJ"
      },
      "execution_count": null,
      "outputs": []
    },
    {
      "cell_type": "code",
      "source": [
        "reset_weights(conv_model)"
      ],
      "metadata": {
        "id": "Uvt3c4AUa5Nc"
      },
      "execution_count": null,
      "outputs": []
    },
    {
      "cell_type": "code",
      "source": [
        "VALIDATION_SPLIT = 0.2\n",
        "history_conv = conv_model.fit(np.asarray(datasetX), np.asarray(datasetY), \n",
        "                              validation_split=VALIDATION_SPLIT, \n",
        "                              epochs=30, \n",
        "                              batch_size=40)"
      ],
      "metadata": {
        "colab": {
          "base_uri": "https://localhost:8080/"
        },
        "id": "caHZ_iU4a8Ak",
        "outputId": "d2f0fbbc-56bd-49e3-f8af-e1e9c4704e1f"
      },
      "execution_count": null,
      "outputs": [
        {
          "output_type": "stream",
          "name": "stdout",
          "text": [
            "Train on 744 samples, validate on 186 samples\n",
            "Epoch 1/30\n",
            "744/744 [==============================] - 6s 8ms/sample - loss: 3.6381 - acc: 0.0954 - val_loss: 3.0274 - val_acc: 0.2312\n",
            "Epoch 2/30\n",
            "744/744 [==============================] - 1s 2ms/sample - loss: 2.7963 - acc: 0.2957 - val_loss: 2.3545 - val_acc: 0.4892\n",
            "Epoch 3/30\n",
            "744/744 [==============================] - 1s 2ms/sample - loss: 2.1656 - acc: 0.4946 - val_loss: 1.9051 - val_acc: 0.5806\n",
            "Epoch 4/30\n",
            "744/744 [==============================] - 1s 2ms/sample - loss: 1.6679 - acc: 0.6142 - val_loss: 1.6745 - val_acc: 0.6237\n",
            "Epoch 5/30\n",
            "744/744 [==============================] - 1s 2ms/sample - loss: 1.4050 - acc: 0.6519 - val_loss: 1.5168 - val_acc: 0.6290\n",
            "Epoch 6/30\n",
            "744/744 [==============================] - 1s 2ms/sample - loss: 1.1940 - acc: 0.6855 - val_loss: 1.5140 - val_acc: 0.6344\n",
            "Epoch 7/30\n",
            "744/744 [==============================] - 1s 2ms/sample - loss: 0.9946 - acc: 0.7406 - val_loss: 1.5723 - val_acc: 0.6613\n",
            "Epoch 8/30\n",
            "744/744 [==============================] - 1s 2ms/sample - loss: 0.8454 - acc: 0.7809 - val_loss: 1.5053 - val_acc: 0.6559\n",
            "Epoch 9/30\n",
            "744/744 [==============================] - 1s 2ms/sample - loss: 0.6843 - acc: 0.8226 - val_loss: 1.5251 - val_acc: 0.6559\n",
            "Epoch 10/30\n",
            "744/744 [==============================] - 1s 2ms/sample - loss: 0.5541 - acc: 0.8629 - val_loss: 1.6409 - val_acc: 0.6452\n",
            "Epoch 11/30\n",
            "744/744 [==============================] - 1s 2ms/sample - loss: 0.4495 - acc: 0.8884 - val_loss: 1.8971 - val_acc: 0.6075\n",
            "Epoch 12/30\n",
            "744/744 [==============================] - 1s 2ms/sample - loss: 0.3471 - acc: 0.9261 - val_loss: 1.9689 - val_acc: 0.6452\n",
            "Epoch 13/30\n",
            "744/744 [==============================] - 1s 2ms/sample - loss: 0.2945 - acc: 0.9261 - val_loss: 2.0247 - val_acc: 0.6559\n",
            "Epoch 14/30\n",
            "744/744 [==============================] - 1s 2ms/sample - loss: 0.2217 - acc: 0.9556 - val_loss: 2.1887 - val_acc: 0.6828\n",
            "Epoch 15/30\n",
            "744/744 [==============================] - 1s 2ms/sample - loss: 0.1591 - acc: 0.9758 - val_loss: 2.2652 - val_acc: 0.6720\n",
            "Epoch 16/30\n",
            "744/744 [==============================] - 1s 2ms/sample - loss: 0.1270 - acc: 0.9785 - val_loss: 2.3835 - val_acc: 0.6774\n",
            "Epoch 17/30\n",
            "744/744 [==============================] - 1s 2ms/sample - loss: 0.0947 - acc: 0.9825 - val_loss: 2.6716 - val_acc: 0.6237\n",
            "Epoch 18/30\n",
            "744/744 [==============================] - 1s 2ms/sample - loss: 0.0672 - acc: 0.9892 - val_loss: 2.6907 - val_acc: 0.6452\n",
            "Epoch 19/30\n",
            "744/744 [==============================] - 1s 2ms/sample - loss: 0.0482 - acc: 0.9906 - val_loss: 2.9973 - val_acc: 0.6613\n",
            "Epoch 20/30\n",
            "744/744 [==============================] - 1s 2ms/sample - loss: 0.0455 - acc: 0.9946 - val_loss: 2.8654 - val_acc: 0.6720\n",
            "Epoch 21/30\n",
            "744/744 [==============================] - 1s 2ms/sample - loss: 0.1230 - acc: 0.9758 - val_loss: 2.8421 - val_acc: 0.6667\n",
            "Epoch 22/30\n",
            "744/744 [==============================] - 1s 2ms/sample - loss: 0.0198 - acc: 0.9960 - val_loss: 2.9845 - val_acc: 0.6667\n",
            "Epoch 23/30\n",
            "744/744 [==============================] - 1s 2ms/sample - loss: 0.0111 - acc: 1.0000 - val_loss: 3.1836 - val_acc: 0.6613\n",
            "Epoch 24/30\n",
            "744/744 [==============================] - 1s 2ms/sample - loss: 0.0737 - acc: 0.9906 - val_loss: 3.7284 - val_acc: 0.6183\n",
            "Epoch 25/30\n",
            "744/744 [==============================] - 1s 2ms/sample - loss: 0.0510 - acc: 0.9933 - val_loss: 3.2091 - val_acc: 0.6505\n",
            "Epoch 26/30\n",
            "744/744 [==============================] - 1s 2ms/sample - loss: 0.0036 - acc: 1.0000 - val_loss: 3.3466 - val_acc: 0.6720\n",
            "Epoch 27/30\n",
            "744/744 [==============================] - 1s 2ms/sample - loss: 0.0975 - acc: 0.9812 - val_loss: 3.2314 - val_acc: 0.6398\n",
            "Epoch 28/30\n",
            "744/744 [==============================] - 1s 2ms/sample - loss: 0.0059 - acc: 1.0000 - val_loss: 3.1702 - val_acc: 0.6667\n",
            "Epoch 29/30\n",
            "744/744 [==============================] - 1s 2ms/sample - loss: 0.0026 - acc: 1.0000 - val_loss: 3.2544 - val_acc: 0.6613\n",
            "Epoch 30/30\n",
            "744/744 [==============================] - 1s 2ms/sample - loss: 0.0037 - acc: 1.0000 - val_loss: 3.4171 - val_acc: 0.6774\n"
          ]
        }
      ]
    },
    {
      "cell_type": "code",
      "source": [
        "plt.plot(history_conv.history['loss'])\n",
        "plt.plot(history_conv.history['val_loss'])\n",
        "plt.title('model loss')\n",
        "plt.ylabel('loss')\n",
        "plt.xlabel('epoch')\n",
        "plt.legend(['train loss', 'val loss'], loc='upper left')\n",
        "plt.show()"
      ],
      "metadata": {
        "id": "yomnQZcta_CE",
        "colab": {
          "base_uri": "https://localhost:8080/",
          "height": 295
        },
        "outputId": "e2608de4-b02c-494f-e62c-60691186f963"
      },
      "execution_count": null,
      "outputs": [
        {
          "output_type": "display_data",
          "data": {
            "text/plain": [
              "<Figure size 432x288 with 1 Axes>"
            ],
            "image/png": "[encoded data removed]"
          },
          "metadata": {
            "needs_background": "light"
          }
        }
      ]
    },
    {
      "cell_type": "code",
      "source": [
        "plt.plot(history_conv.history['acc'])\n",
        "plt.plot(history_conv.history['val_acc'])\n",
        "plt.title('model accuracy')\n",
        "plt.ylabel('accuracy (%)')\n",
        "plt.xlabel('epoch')\n",
        "plt.legend(['train accuracy', 'val accuracy'], loc='upper left')\n",
        "plt.show()"
      ],
      "metadata": {
        "id": "fvLI8Ef-dd3Y",
        "colab": {
          "base_uri": "https://localhost:8080/",
          "height": 295
        },
        "outputId": "90a1b7ef-28c5-4d65-b4a7-6b727f644951"
      },
      "execution_count": null,
      "outputs": [
        {
          "output_type": "display_data",
          "data": {
            "text/plain": [
              "<Figure size 432x288 with 1 Axes>"
            ],
            "image/png": "[encoded data removed]"
          },
          "metadata": {
            "needs_background": "light"
          }
        }
      ]
    },
    {
      "cell_type": "code",
      "source": [
        "from ipywidgets import interact\n",
        "import ipywidgets as ipywidgets\n",
        "# Display images in the training data set. \n",
        "def displayImage(index):\n",
        "  img = datasetX[index]\n",
        "  \n",
        "  img_aug = np.expand_dims(img, axis=0)\n",
        "  y_predict = conv_model.predict(img_aug)[0]\n",
        "  \n",
        "  plt.imshow(img) \n",
        "  print(\"Truth:\\n\")\n",
        "  print(np.argmax(np.asarray(datasetY)[index]) )\n",
        "  print(\"\\nPredicted:\\n\")\n",
        "  print(np.argmax(y_predict))\n",
        "\n",
        "\n",
        "interact(displayImage, \n",
        "        index=ipywidgets.IntSlider(min=0, max=np.asarray(datasetX).shape[0],\n",
        "                                   step=1, value=10))"
      ],
      "metadata": {
        "id": "JVFQhRdUd3K-",
        "colab": {
          "base_uri": "https://localhost:8080/",
          "height": 440,
          "referenced_widgets": [
            "7b7c4a6659aa423ca00e43b36db5286e",
            "56278518f9ea4a79a800b46b484d5db8",
            "91a5688ee0b249c48a0637cdeccf6dec",
            "c5f606a186fe405697a71d045ba62315",
            "394b08ecc92341a2b327f94458dec712",
            "baed32e1826e434a8ef04a271dbf862a",
            "0e43fd8a17d54ce997ebd19a4ea301b6"
          ]
        },
        "outputId": "c81db9f0-cc54-4762-cf88-e33bf780087b"
      },
      "execution_count": null,
      "outputs": [
        {
          "output_type": "display_data",
          "data": {
            "text/plain": [
              "interactive(children=(IntSlider(value=10, description='index', max=930), Output()), _dom_classes=('widget-inte…"
            ],
            "application/vnd.jupyter.widget-view+json": {
              "version_major": 2,
              "version_minor": 0,
              "model_id": "7b7c4a6659aa423ca00e43b36db5286e"
            }
          },
          "metadata": {}
        },
        {
          "output_type": "execute_result",
          "data": {
            "text/plain": [
              "<function __main__.displayImage>"
            ]
          },
          "metadata": {},
          "execution_count": 20
        }
      ]
    },
    {
      "cell_type": "code",
      "source": [
        "# makes the output folder /content/pictures/\n",
        "!mkdir model"
      ],
      "metadata": {
        "id": "XyLFe9poal_H"
      },
      "execution_count": null,
      "outputs": []
    },
    {
      "cell_type": "code",
      "source": [
        "!pip install h5py==2.10.0 --force-reinstall"
      ],
      "metadata": {
        "colab": {
          "base_uri": "https://localhost:8080/",
          "height": 646
        },
        "id": "pAKmpZaRbHo3",
        "outputId": "94f3b0da-e725-4eb3-e724-6b8ca183f5ed"
      },
      "execution_count": null,
      "outputs": [
        {
          "output_type": "stream",
          "name": "stdout",
          "text": [
            "Collecting h5py==2.10.0\n",
            "  Downloading h5py-2.10.0-cp37-cp37m-manylinux1_x86_64.whl (2.9 MB)\n",
            "\u001b[K     |████████████████████████████████| 2.9 MB 25.3 MB/s \n",
            "\u001b[?25hCollecting numpy>=1.7\n",
            "  Downloading numpy-1.21.5-cp37-cp37m-manylinux_2_12_x86_64.manylinux2010_x86_64.whl (15.7 MB)\n",
            "\u001b[K     |████████████████████████████████| 15.7 MB 61.8 MB/s \n",
            "\u001b[?25hCollecting six\n",
            "  Downloading six-1.16.0-py2.py3-none-any.whl (11 kB)\n",
            "Installing collected packages: six, numpy, h5py\n",
            "  Attempting uninstall: six\n",
            "    Found existing installation: six 1.15.0\n",
            "    Uninstalling six-1.15.0:\n",
            "      Successfully uninstalled six-1.15.0\n",
            "  Attempting uninstall: numpy\n",
            "    Found existing installation: numpy 1.21.5\n",
            "    Uninstalling numpy-1.21.5:\n",
            "      Successfully uninstalled numpy-1.21.5\n",
            "  Attempting uninstall: h5py\n",
            "    Found existing installation: h5py 3.1.0\n",
            "    Uninstalling h5py-3.1.0:\n",
            "      Successfully uninstalled h5py-3.1.0\n",
            "\u001b[31mERROR: pip's dependency resolver does not currently take into account all the packages that are installed. This behaviour is the source of the following dependency conflicts.\n",
            "lucid 0.3.10 requires umap-learn, which is not installed.\n",
            "tensorflow 1.15.2 requires gast==0.2.2, but you have gast 0.5.3 which is incompatible.\n",
            "lucid 0.3.10 requires numpy<=1.19, but you have numpy 1.21.5 which is incompatible.\n",
            "kapre 0.3.7 requires tensorflow>=2.0.0, but you have tensorflow 1.15.2 which is incompatible.\n",
            "google-colab 1.0.0 requires six~=1.15.0, but you have six 1.16.0 which is incompatible.\n",
            "datascience 0.10.6 requires folium==0.2.1, but you have folium 0.8.3 which is incompatible.\n",
            "albumentations 0.1.12 requires imgaug<0.2.7,>=0.2.5, but you have imgaug 0.2.9 which is incompatible.\u001b[0m\n",
            "Successfully installed h5py-2.10.0 numpy-1.21.5 six-1.16.0\n"
          ]
        },
        {
          "output_type": "display_data",
          "data": {
            "application/vnd.colab-display-data+json": {
              "pip_warning": {
                "packages": [
                  "h5py",
                  "numpy",
                  "six"
                ]
              }
            }
          },
          "metadata": {}
        }
      ]
    },
    {
      "cell_type": "code",
      "source": [
        "conv_model.save(\"conv_model.h5\")"
      ],
      "metadata": {
        "id": "YYbDuZdOZpjL"
      },
      "execution_count": null,
      "outputs": []
    }
  ]
}