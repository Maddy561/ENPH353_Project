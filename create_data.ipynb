{
  "nbformat": 4,
  "nbformat_minor": 0,
  "metadata": {
    "colab": {
      "name": "create_data.ipynb",
      "provenance": [],
      "collapsed_sections": []
    },
    "kernelspec": {
      "name": "python3",
      "display_name": "Python 3"
    },
    "language_info": {
      "name": "python"
    }
  },
  "cells": [
    {
      "cell_type": "code",
      "execution_count": null,
      "metadata": {
        "id": "DlfZOCj6Ranx"
      },
      "outputs": [],
      "source": [
        "import string\n",
        "import random\n",
        "from random import randint\n",
        "import cv2\n",
        "import numpy as np\n",
        "import os\n",
        "from PIL import Image, ImageFont, ImageDraw"
      ]
    },
    {
      "cell_type": "code",
      "source": [
        "# Run this command only once\n",
        "\n",
        "# Downloads the license plate template to /content/blank_plate.png\n",
        "!gdown --id 1Q_FsX2z6DaDCLM91qGZzwvctaW9bN60v"
      ],
      "metadata": {
        "colab": {
          "base_uri": "https://localhost:8080/"
        },
        "id": "Fm6dtMS8SDaP",
        "outputId": "22146ec3-63a7-42ee-825a-5d04bdeb602b"
      },
      "execution_count": null,
      "outputs": [
        {
          "output_type": "stream",
          "name": "stdout",
          "text": [
            "Downloading...\n",
            "From: https://drive.google.com/uc?id=1Q_FsX2z6DaDCLM91qGZzwvctaW9bN60v\n",
            "To: /content/blank_plate.png\n",
            "\r  0% 0.00/144k [00:00<?, ?B/s]\r100% 144k/144k [00:00<00:00, 1.96MB/s]\n"
          ]
        }
      ]
    },
    {
      "cell_type": "code",
      "source": [
        "# Run this command only once:\n",
        "\n",
        "# makes the output folder /content/pictures/\n",
        "!mkdir pics"
      ],
      "metadata": {
        "id": "qvdyadHpj5R5"
      },
      "execution_count": null,
      "outputs": []
    },
    {
      "cell_type": "code",
      "source": [
        "from google.colab import drive\n",
        "drive.mount('/content/drive')"
      ],
      "metadata": {
        "colab": {
          "base_uri": "https://localhost:8080/"
        },
        "id": "RzZALbpfi7uH",
        "outputId": "a36d17ac-01a0-4964-b3ab-782352be1700"
      },
      "execution_count": null,
      "outputs": [
        {
          "output_type": "stream",
          "name": "stdout",
          "text": [
            "Drive already mounted at /content/drive; to attempt to forcibly remount, call drive.mount(\"/content/drive\", force_remount=True).\n"
          ]
        }
      ]
    },
    {
      "cell_type": "code",
      "source": [
        "path = \"/content/\"\n",
        "\n",
        "NUMBER_OF_PLATES = 1000\n",
        "\n",
        "test_plates = []\n",
        "for i in range(0, NUMBER_OF_PLATES):\n",
        "\n",
        "    # Pick two random letters\n",
        "    plate_alpha = \"\"\n",
        "    for _ in range(0, 2):\n",
        "        plate_alpha += (random.choice(string.ascii_uppercase))\n",
        "\n",
        "    # Pick two random numbers\n",
        "    num = randint(0, 99)\n",
        "    plate_num = \"{:02d}\".format(num)\n",
        "\n",
        "    # Write plate to image\n",
        "    blank_plate = cv2.imread(path+'blank_plate.png')\n",
        "\n",
        "    # Convert into a PIL image (this is so we can use the monospaced fonts)\n",
        "    blank_plate_pil = Image.fromarray(blank_plate)\n",
        "\n",
        "    # Get a drawing context\n",
        "    draw = ImageDraw.Draw(blank_plate_pil)\n",
        "    monospace = ImageFont.truetype(font=\"/usr/share/fonts/truetype/liberation/LiberationMono-Regular.ttf\", \n",
        "                                   size=165)\n",
        "    draw.text(xy=(48, 75),\n",
        "              text=plate_alpha + \" \" + plate_num, \n",
        "              fill=(255,0,0), font=monospace)\n",
        "\n",
        "    # Convert back to OpenCV image and save\n",
        "    blank_plate = np.array(blank_plate_pil)\n",
        "    test_plates.append(blank_plate)\n",
        "\n",
        "    # Write license plate to file\n",
        "    cv2.imwrite(os.path.join(path + \"pictures/\", \n",
        "                             \"plate_{}{}.png\".format(plate_alpha, plate_num)),\n",
        "                             blank_plate)"
      ],
      "metadata": {
        "id": "pv_8pr9yScUq"
      },
      "execution_count": null,
      "outputs": []
    }
  ]
}