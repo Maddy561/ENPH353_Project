{
  "nbformat": 4,
  "nbformat_minor": 0,
  "metadata": {
    "colab": {
      "name": "license_sub_image_generator",
      "provenance": [],
      "collapsed_sections": []
    },
    "kernelspec": {
      "name": "python3",
      "display_name": "Python 3"
    },
    "language_info": {
      "name": "python"
    }
  },
  "cells": [
    {
      "cell_type": "code",
      "execution_count": null,
      "metadata": {
        "id": "Zgt5C8mhuWwW"
      },
      "outputs": [],
      "source": [
        "from collections import Counter\n",
        "import cv2\n",
        "import math\n",
        "import numpy as np\n",
        "import os\n",
        "from PIL import Image, ImageDraw\n",
        "import matplotlib.pyplot as plt\n",
        "import random\n",
        "from random import randint\n",
        "import re\n",
        "import string"
      ]
    },
    {
      "cell_type": "code",
      "source": [
        "# Run this command only once:\n",
        "\n",
        "\n",
        "# makes the output folder /content/pictures/\n",
        "!mkdir pics"
      ],
      "metadata": {
        "id": "7XVskqYnult0"
      },
      "execution_count": null,
      "outputs": []
    },
    {
      "cell_type": "code",
      "source": [
        "from google.colab import drive\n",
        "drive.mount('/content/drive')"
      ],
      "metadata": {
        "id": "6N74ZwPpvV-p",
        "colab": {
          "base_uri": "https://localhost:8080/"
        },
        "outputId": "c80a0ac0-e92f-4886-b5a5-fc2ac2c9b80e"
      },
      "execution_count": null,
      "outputs": [
        {
          "output_type": "stream",
          "name": "stdout",
          "text": [
            "Drive already mounted at /content/drive; to attempt to forcibly remount, call drive.mount(\"/content/drive\", force_remount=True).\n"
          ]
        }
      ]
    },
    {
      "cell_type": "code",
      "source": [
        "PATH = \"/content/drive/My Drive/pictures\""
      ],
      "metadata": {
        "id": "g6XdsXGm005a"
      },
      "execution_count": null,
      "outputs": []
    },
    {
      "cell_type": "code",
      "source": [
        "def files_in_folder(folder_path):\n",
        "  '''\n",
        "  Returns a list of strings where each entry is a file in the folder_path.\n",
        "  \n",
        "  Parameters\n",
        "  ----------\n",
        "  \n",
        "  folder_path : str\n",
        "     A string to folder for which the file listing is returned.\n",
        "     \n",
        "  '''\n",
        "  files_A = !ls \"{folder_path}\"\n",
        "  # The files when listed from Google Drive have a particular format. They are\n",
        "  # grouped in sets of 4 and have spaces and tabs as delimiters.\n",
        "  \n",
        "  # Split the string listing sets of 4 files by tab and space and remove any \n",
        "  # empty splits.\n",
        "  files_B = [list(filter(None, re.split('\\t|\\s', files))) for files in files_A]\n",
        "  \n",
        "  # Concatenate all splits into a single sorted list\n",
        "  files_C = []\n",
        "  for element in files_B:\n",
        "    files_C = files_C + element\n",
        "  files_C.sort()\n",
        "  \n",
        "  return files_C\n",
        "\n",
        "\n",
        "files = files_in_folder(PATH)"
      ],
      "metadata": {
        "id": "F5nlN59O-xp9"
      },
      "execution_count": null,
      "outputs": []
    },
    {
      "cell_type": "code",
      "source": [
        "imgset = np.array([[np.array(Image.open(f'{PATH}/{file}')), 0]\n",
        "                    for file in files[:]])"
      ],
      "metadata": {
        "id": "05Xkk8XxKDgh",
        "outputId": "3975fbfe-0af8-4f7c-c264-cf0e84518576",
        "colab": {
          "base_uri": "https://localhost:8080/"
        }
      },
      "execution_count": null,
      "outputs": [
        {
          "output_type": "stream",
          "name": "stderr",
          "text": [
            "/usr/local/lib/python3.7/dist-packages/ipykernel_launcher.py:2: VisibleDeprecationWarning: Creating an ndarray from ragged nested sequences (which is a list-or-tuple of lists-or-tuples-or ndarrays with different lengths or shapes) is deprecated. If you meant to do this, you must specify 'dtype=object' when creating the ndarray.\n",
            "  \n"
          ]
        }
      ]
    },
    {
      "cell_type": "code",
      "source": [
        "#print(imgset[0])"
      ],
      "metadata": {
        "id": "hTvJRqz8KLUS"
      },
      "execution_count": null,
      "outputs": []
    },
    {
      "cell_type": "code",
      "source": [
        "#print(imgset.size)\n",
        "print(imgset[0][0].shape)\n",
        "print(len(files))\n",
        "print(len(imgset))"
      ],
      "metadata": {
        "id": "Pv0NT7b2LFcd",
        "colab": {
          "base_uri": "https://localhost:8080/"
        },
        "outputId": "68df04a5-0c06-45a3-d7bf-6d0a63a2ec77"
      },
      "execution_count": null,
      "outputs": [
        {
          "output_type": "stream",
          "name": "stdout",
          "text": [
            "(298, 600, 3)\n",
            "1227\n",
            "1227\n"
          ]
        }
      ]
    },
    {
      "cell_type": "code",
      "source": [
        "for i in range(len(files)):\n",
        "  license_plate = imgset[i]\n",
        "  first_char = license_plate[0][0:license_plate[0].shape[0], 50:145]\n",
        "  second_char = license_plate[0][0:license_plate[0].shape[0], 150:245]\n",
        "  third_char = license_plate[0][0:license_plate[0].shape[0], 350:445]\n",
        "  fourth_char = license_plate[0][0:license_plate[0].shape[0], 450:545]\n",
        "  #print(first_char)\n",
        "  #plt.imshow(fourth_char)\n",
        "  #plt.show\n",
        "  cv2.imwrite(os.path.join(\"/content/pics/\", \"{}_{}_{}.png\".format(files[i][6],files[i][6], files[i])), cv2.cvtColor(first_char, cv2.COLOR_BGR2RGB))\n",
        "  cv2.imwrite(os.path.join(\"/content/pics/\", \"{}_{}_{}.png\".format(files[i][7],files[i][6], files[i])), cv2.cvtColor(second_char, cv2.COLOR_BGR2RGB))\n",
        "  cv2.imwrite(os.path.join(\"/content/pics/\", \"{}_{}_{}.png\".format(files[i][8],files[i][6], files[i])), cv2.cvtColor(third_char, cv2.COLOR_BGR2RGB))\n",
        "  cv2.imwrite(os.path.join(\"/content/pics/\", \"{}_{}_{}.png\".format(files[i][9],files[i][6], files[i])), cv2.cvtColor(fourth_char, cv2.COLOR_BGR2RGB))\n"
      ],
      "metadata": {
        "id": "fL3m2anO-nW8"
      },
      "execution_count": null,
      "outputs": []
    }
  ]
}