{
  "nbformat": 4,
  "nbformat_minor": 0,
  "metadata": {
    "colab": {
      "name": "data_augmentation.ipynb",
      "provenance": [],
      "collapsed_sections": []
    },
    "kernelspec": {
      "name": "python3",
      "display_name": "Python 3"
    },
    "language_info": {
      "name": "python"
    }
  },
  "cells": [
    {
      "cell_type": "code",
      "execution_count": null,
      "metadata": {
        "id": "Mf1ezHpSMe6W"
      },
      "outputs": [],
      "source": [
        "from collections import Counter\n",
        "import cv2\n",
        "import math\n",
        "import numpy as np\n",
        "import os\n",
        "from PIL import Image, ImageDraw\n",
        "import matplotlib.pyplot as plt\n",
        "import random\n",
        "from random import randint\n",
        "import re\n",
        "import string"
      ]
    },
    {
      "cell_type": "code",
      "source": [
        "from google.colab import drive\n",
        "drive.mount('/content/drive')"
      ],
      "metadata": {
        "colab": {
          "base_uri": "https://localhost:8080/"
        },
        "id": "8OTI7JX5MpO0",
        "outputId": "4633ea33-2c4b-4b19-de2a-4139e2450da1"
      },
      "execution_count": null,
      "outputs": [
        {
          "output_type": "stream",
          "name": "stdout",
          "text": [
            "Drive already mounted at /content/drive; to attempt to forcibly remount, call drive.mount(\"/content/drive\", force_remount=True).\n"
          ]
        }
      ]
    },
    {
      "cell_type": "code",
      "source": [
        "PATH = \"/content/drive/My Drive/pictures\""
      ],
      "metadata": {
        "id": "KpvF9ktDMp5D"
      },
      "execution_count": null,
      "outputs": []
    },
    {
      "cell_type": "code",
      "source": [
        "def files_in_folder(folder_path):\n",
        "  '''\n",
        "  Returns a list of strings where each entry is a file in the folder_path.\n",
        "  \n",
        "  Parameters\n",
        "  ----------\n",
        "  \n",
        "  folder_path : str\n",
        "     A string to folder for which the file listing is returned.\n",
        "     \n",
        "  '''\n",
        "  files_A = !ls \"{folder_path}\"\n",
        "  # The files when listed from Google Drive have a particular format. They are\n",
        "  # grouped in sets of 4 and have spaces and tabs as delimiters.\n",
        "  \n",
        "  # Split the string listing sets of 4 files by tab and space and remove any \n",
        "  # empty splits.\n",
        "  files_B = [list(filter(None, re.split('\\t|\\s', files))) for files in files_A]\n",
        "  \n",
        "  # Concatenate all splits into a single sorted list\n",
        "  files_C = []\n",
        "  for element in files_B:\n",
        "    files_C = files_C + element\n",
        "  files_C.sort()\n",
        "  \n",
        "  return files_C\n",
        "\n",
        "files = files_in_folder(PATH)\n",
        "print(files)"
      ],
      "metadata": {
        "colab": {
          "base_uri": "https://localhost:8080/"
        },
        "id": "p2HdX2ZEM6OV",
        "outputId": "b2d1c891-0848-445a-c6ee-1938f6b5cebc"
      },
      "execution_count": null,
      "outputs": [
        {
          "output_type": "stream",
          "name": "stdout",
          "text": [
            "['plate_AA58.png', 'plate_AA63.png', 'plate_AA67.png', 'plate_AB02.png', 'plate_AC04.png', 'plate_AC55.png', 'plate_AC65.png', 'plate_AC96.png', 'plate_AD07.png', 'plate_AD76.png', 'plate_AE37.png', 'plate_AE44.png', 'plate_AE58.png', 'plate_AE84.png', 'plate_AF09.png', 'plate_AF73.png', 'plate_AG00.png', 'plate_AG09.png', 'plate_AG92.png', 'plate_AH58.png', 'plate_AI18.png', 'plate_AJ06.png', 'plate_AJ12.png', 'plate_AK29.png', 'plate_AK83.png', 'plate_AL07.png', 'plate_AL53.png', 'plate_AL79.png', 'plate_AM79.png', 'plate_AN74.png', 'plate_AN83.png', 'plate_AO60.png', 'plate_AO65.png', 'plate_AP83.png', 'plate_AQ34.png', 'plate_AQ35.png', 'plate_AQ53.png', 'plate_AS24.png', 'plate_AS42.png', 'plate_AT02.png', 'plate_AT03.png', 'plate_AT31.png', 'plate_AU29.png', 'plate_AU96.png', 'plate_AX22.png', 'plate_AX55.png', 'plate_AX68.png', 'plate_AX88.png', 'plate_AY94.png', 'plate_AZ40.png', 'plate_BA46.png', 'plate_BB09.png', 'plate_BB72.png', 'plate_BD38.png', 'plate_BD71.png', 'plate_BD82.png', 'plate_BE36.png', 'plate_BF22.png', 'plate_BF31.png', 'plate_BF82.png', 'plate_BG06.png', 'plate_BH17.png', 'plate_BI37.png', 'plate_BI90.png', 'plate_BJ49.png', 'plate_BJ85.png', 'plate_BK05.png', 'plate_BK22.png', 'plate_BK96.png', 'plate_BN82.png', 'plate_BO09.png', 'plate_BO56.png', 'plate_BP60.png', 'plate_BQ18.png', 'plate_BQ64.png', 'plate_BQ80.png', 'plate_BQ90.png', 'plate_BS59.png', 'plate_BS92.png', 'plate_BT05.png', 'plate_BU03.png', 'plate_BU06.png', 'plate_BU65.png', 'plate_BU85.png', 'plate_BV87.png', 'plate_BW35.png', 'plate_BW63.png', 'plate_BX41.png', 'plate_BX72.png', 'plate_BX84.png', 'plate_BZ56.png', 'plate_BZ87.png', 'plate_CA96.png', 'plate_CB07.png', 'plate_CB37.png', 'plate_CB74.png', 'plate_CC02.png', 'plate_CC35.png', 'plate_CD17.png', 'plate_CD64.png', 'plate_CD95.png', 'plate_CE26.png', 'plate_CG79.png', 'plate_CI34.png', 'plate_CJ15.png', 'plate_CK95.png', 'plate_CK99.png', 'plate_CL68.png', 'plate_CL83.png', 'plate_CL84.png', 'plate_CL92.png', 'plate_CM95.png', 'plate_CN84.png', 'plate_CQ04.png', 'plate_CQ38.png', 'plate_CQ68.png', 'plate_CR00.png', 'plate_CR27.png', 'plate_CS20.png', 'plate_CS48.png', 'plate_CT33.png', 'plate_CV11.png', 'plate_CX06.png', 'plate_CX88.png', 'plate_CY03.png', 'plate_CY33.png', 'plate_CY55.png', 'plate_CY60.png', 'plate_DA27.png', 'plate_DB00.png', 'plate_DC02.png', 'plate_DD04.png', 'plate_DD76.png', 'plate_DE52.png', 'plate_DF31.png', 'plate_DG12.png', 'plate_DG36.png', 'plate_DH18.png', 'plate_DH68.png', 'plate_DI03.png', 'plate_DI04.png', 'plate_DI23.png', 'plate_DI42.png', 'plate_DI80.png', 'plate_DJ13.png', 'plate_DJ16.png', 'plate_DK13.png', 'plate_DL49.png', 'plate_DL50.png', 'plate_DM75.png', 'plate_DM83.png', 'plate_DN55.png', 'plate_DN96.png', 'plate_DQ14.png', 'plate_DS23.png', 'plate_DS40.png', 'plate_DS44.png', 'plate_DT09.png', 'plate_DT38.png', 'plate_DT73.png', 'plate_DV48.png', 'plate_DV75.png', 'plate_DW65.png', 'plate_DX35.png', 'plate_DX68.png', 'plate_DY28.png', 'plate_DY49.png', 'plate_DY73.png', 'plate_DY81.png', 'plate_DY93.png', 'plate_DZ70.png', 'plate_DZ96.png', 'plate_EA39.png', 'plate_EA88.png', 'plate_EC87.png', 'plate_ED02.png', 'plate_ED30.png', 'plate_ED40.png', 'plate_EE34.png', 'plate_EF76.png', 'plate_EH34.png', 'plate_EK64.png', 'plate_EK66.png', 'plate_EL28.png', 'plate_EO75.png', 'plate_EP00.png', 'plate_EQ31.png', 'plate_EQ87.png', 'plate_EQ92.png', 'plate_ER70.png', 'plate_ER97.png', 'plate_ET57.png', 'plate_EU52.png', 'plate_EV58.png', 'plate_EV62.png', 'plate_EV87.png', 'plate_EW19.png', 'plate_EW61.png', 'plate_EX66.png', 'plate_EY27.png', 'plate_EY44.png', 'plate_EY58.png', 'plate_EZ05.png', 'plate_EZ54.png', 'plate_FA30.png', 'plate_FA32.png', 'plate_FA53.png', 'plate_FB91.png', 'plate_FC33.png', 'plate_FC37.png', 'plate_FC78.png', 'plate_FC94.png', 'plate_FE26.png', 'plate_FE53.png', 'plate_FE77.png', 'plate_FF28.png', 'plate_FF38.png', 'plate_FG32.png', 'plate_FG96.png', 'plate_FI42.png', 'plate_FJ26.png', 'plate_FJ46.png', 'plate_FJ94.png', 'plate_FK48.png', 'plate_FM42.png', 'plate_FM55.png', 'plate_FM90.png', 'plate_FN12.png', 'plate_FN94.png', 'plate_FO44.png', 'plate_FO78.png', 'plate_FP01.png', 'plate_FP30.png', 'plate_FP56.png', 'plate_FP79.png', 'plate_FR59.png', 'plate_FR84.png', 'plate_FS70.png', 'plate_FT82.png', 'plate_FU17.png', 'plate_FU75.png', 'plate_FV70.png', 'plate_FV76.png', 'plate_FW31.png', 'plate_FX05.png', 'plate_FX36.png', 'plate_FX50.png', 'plate_FY01.png', 'plate_FZ38.png', 'plate_GA76.png', 'plate_GB16.png', 'plate_GB37.png', 'plate_GD84.png', 'plate_GE28.png', 'plate_GE49.png', 'plate_GF15.png', 'plate_GF44.png', 'plate_GG53.png', 'plate_GG54.png', 'plate_GH39.png', 'plate_GJ03.png', 'plate_GK74.png', 'plate_GL73.png', 'plate_GL88.png', 'plate_GN23.png', 'plate_GN67.png', 'plate_GO71.png', 'plate_GP01.png', 'plate_GP32.png', 'plate_GT26.png', 'plate_GT74.png', 'plate_GV31.png', 'plate_GW48.png', 'plate_GX61.png', 'plate_GX77.png', 'plate_GX98.png', 'plate_GY11.png', 'plate_GY13.png', 'plate_GY33.png', 'plate_GY35.png', 'plate_GY80.png', 'plate_GZ06.png', 'plate_GZ09.png', 'plate_GZ60.png', 'plate_HA26.png', 'plate_HA58.png', 'plate_HB31.png', 'plate_HB45.png', 'plate_HB79.png', 'plate_HD49.png', 'plate_HF47.png', 'plate_HG27.png', 'plate_HG58.png', 'plate_HH85.png', 'plate_HI39.png', 'plate_HJ44.png', 'plate_HJ71.png', 'plate_HK44.png', 'plate_HK71.png', 'plate_HL09.png', 'plate_HM48.png', 'plate_HM57.png', 'plate_HM73.png', 'plate_HN07.png', 'plate_HN23.png', 'plate_HN96.png', 'plate_HO36.png', 'plate_HQ50.png', 'plate_HR53.png', 'plate_HR85.png', 'plate_HR88.png', 'plate_HS92.png', 'plate_HT63.png', 'plate_HT92.png', 'plate_HU17.png', 'plate_HU85.png', 'plate_HV66.png', 'plate_HW90.png', 'plate_HY16.png', 'plate_HZ28.png', 'plate_HZ46.png', 'plate_IA95.png', 'plate_IB13.png', 'plate_IC05.png', 'plate_IE29.png', 'plate_IE86.png', 'plate_IF52.png', 'plate_IG10.png', 'plate_IH80.png', 'plate_II05.png', 'plate_IJ08.png', 'plate_IJ89.png', 'plate_IK26.png', 'plate_IL69.png', 'plate_IM08.png', 'plate_IM18.png', 'plate_IM21.png', 'plate_IM24.png', 'plate_IN15.png', 'plate_IO10.png', 'plate_IP07.png', 'plate_IP60.png', 'plate_IQ24.png', 'plate_IR41.png', 'plate_IS00.png', 'plate_IS98.png', 'plate_IT86.png', 'plate_IU20.png', 'plate_IU23.png', 'plate_IV99.png', 'plate_IW92.png', 'plate_IX35.png', 'plate_IX74.png', 'plate_IZ88.png', 'plate_JB08.png', 'plate_JB22.png', 'plate_JC74.png', 'plate_JD65.png', 'plate_JE51.png', 'plate_JE55.png', 'plate_JE70.png', 'plate_JF49.png', 'plate_JH21.png', 'plate_JI13.png', 'plate_JJ20.png', 'plate_JJ86.png', 'plate_JK09.png', 'plate_JK37.png', 'plate_JK51.png', 'plate_JL02.png', 'plate_JL08.png', 'plate_JL14.png', 'plate_JL70.png', 'plate_JM31.png', 'plate_JM39.png', 'plate_JO72.png', 'plate_JQ25.png', 'plate_JQ51.png', 'plate_JQ75.png', 'plate_JT52.png', 'plate_JU14.png', 'plate_JV23.png', 'plate_JV91.png', 'plate_JX06.png', 'plate_JX09.png', 'plate_JX39.png', 'plate_JX69.png', 'plate_JY44.png', 'plate_JY88.png', 'plate_JZ13.png', 'plate_JZ37.png', 'plate_KA23.png', 'plate_KA58.png', 'plate_KA82.png', 'plate_KB46.png', 'plate_KB73.png', 'plate_KC59.png', 'plate_KC98.png', 'plate_KD64.png', 'plate_KD74.png', 'plate_KF46.png', 'plate_KF71.png', 'plate_KF80.png', 'plate_KG60.png', 'plate_KH95.png', 'plate_KJ42.png', 'plate_KJ55.png', 'plate_KJ91.png', 'plate_KL16.png', 'plate_KL72.png', 'plate_KM61.png', 'plate_KN66.png', 'plate_KP16.png', 'plate_KQ17.png', 'plate_KR40.png', 'plate_KS25.png', 'plate_KS63.png', 'plate_KT17.png', 'plate_KT28.png', 'plate_KT61.png', 'plate_KV10.png', 'plate_KW84.png', 'plate_KY78.png', 'plate_KZ23.png', 'plate_KZ54.png', 'plate_KZ88.png', 'plate_LA46.png', 'plate_LA76.png', 'plate_LA91.png', 'plate_LB13.png', 'plate_LB26.png', 'plate_LB35.png', 'plate_LC02.png', 'plate_LC16.png', 'plate_LC32.png', 'plate_LE45.png', 'plate_LE96.png', 'plate_LF07.png', 'plate_LF26.png', 'plate_LF94.png', 'plate_LF97.png', 'plate_LH98.png', 'plate_LJ28.png', 'plate_LJ47.png', 'plate_LL03.png', 'plate_LL32.png', 'plate_LL59.png', 'plate_LL77.png', 'plate_LM36.png', 'plate_LM42.png', 'plate_LM80.png', 'plate_LN78.png', 'plate_LO46.png', 'plate_LP05.png', 'plate_LP07.png', 'plate_LP32.png', 'plate_LP97.png', 'plate_LR11.png', 'plate_LS12.png', 'plate_LT66.png', 'plate_LV69.png', 'plate_LX31.png', 'plate_LX54.png', 'plate_LX64.png', 'plate_LX72.png', 'plate_MA00.png', 'plate_MA28.png', 'plate_MA47.png', 'plate_MA52.png', 'plate_MA76.png', 'plate_MC24.png', 'plate_MC98.png', 'plate_ME23.png', 'plate_MF63.png', 'plate_MG25.png', 'plate_MG54.png', 'plate_MH02.png', 'plate_MH07.png', 'plate_MH81.png', 'plate_MI16.png', 'plate_MI51.png', 'plate_MJ46.png', 'plate_MJ61.png', 'plate_MK12.png', 'plate_MK53.png', 'plate_ML08.png', 'plate_MM25.png', 'plate_MN72.png', 'plate_MO31.png', 'plate_MO36.png', 'plate_MO74.png', 'plate_MO91.png', 'plate_MP84.png', 'plate_MP86.png', 'plate_MQ33.png', 'plate_MQ73.png', 'plate_MS12.png', 'plate_MS13.png', 'plate_MS50.png', 'plate_MS70.png', 'plate_MU29.png', 'plate_MV32.png', 'plate_MV53.png', 'plate_MW84.png', 'plate_MZ12.png', 'plate_NA94.png', 'plate_NB01.png', 'plate_NB04.png', 'plate_NB43.png', 'plate_NB80.png', 'plate_NB95.png', 'plate_NC40.png', 'plate_NC61.png', 'plate_NC74.png', 'plate_ND29.png', 'plate_ND85.png', 'plate_NE40.png', 'plate_NE59.png', 'plate_NE71.png', 'plate_NE93.png', 'plate_NF66.png', 'plate_NF78.png', 'plate_NH20.png', 'plate_NH43.png', 'plate_NK04.png', 'plate_NK77.png', 'plate_NL80.png', 'plate_NM62.png', 'plate_NN79.png', 'plate_NP30.png', 'plate_NP46.png', 'plate_NP63.png', 'plate_NQ07.png', 'plate_NR84.png', 'plate_NR93.png', 'plate_NS88.png', 'plate_NU38.png', 'plate_NV68.png', 'plate_NV70.png', 'plate_NV82.png', 'plate_NW64.png', 'plate_NX18.png', 'plate_NY12.png', 'plate_NY82.png', 'plate_NZ14.png', 'plate_NZ37.png', 'plate_NZ73.png', 'plate_OA04.png', 'plate_OA70.png', 'plate_OC54.png', 'plate_OD52.png', 'plate_OE31.png', 'plate_OE33.png', 'plate_OE96.png', 'plate_OF25.png', 'plate_OH35.png', 'plate_OH82.png', 'plate_OJ41.png', 'plate_OJ58.png', 'plate_OK86.png', 'plate_OL66.png', 'plate_OL83.png', 'plate_OM11.png', 'plate_OM30.png', 'plate_OO37.png', 'plate_OO54.png', 'plate_OO79.png', 'plate_OO90.png', 'plate_OQ99.png', 'plate_OR66.png', 'plate_OS30.png', 'plate_OT41.png', 'plate_OT66.png', 'plate_OT92.png', 'plate_OU17.png', 'plate_OU57.png', 'plate_OV11.png', 'plate_OV20.png', 'plate_OV63.png', 'plate_OV91.png', 'plate_OW31.png', 'plate_OW51.png', 'plate_OW52.png', 'plate_OW57.png', 'plate_OX09.png', 'plate_OY62.png', 'plate_OY84.png', 'plate_OZ16.png', 'plate_OZ39.png', 'plate_OZ48.png', 'plate_OZ96.png', 'plate_PA24.png', 'plate_PA39.png', 'plate_PC19.png', 'plate_PC36.png', 'plate_PC61.png', 'plate_PD29.png', 'plate_PE43.png', 'plate_PE44.png', 'plate_PE51.png', 'plate_PF07.png', 'plate_PF61.png', 'plate_PF65.png', 'plate_PG46.png', 'plate_PG63.png', 'plate_PG89.png', 'plate_PG90.png', 'plate_PH49.png', 'plate_PH77.png', 'plate_PH97.png', 'plate_PI38.png', 'plate_PL63.png', 'plate_PM47.png', 'plate_PM59.png', 'plate_PO25.png', 'plate_PO79.png', 'plate_PP41.png', 'plate_PQ92.png', 'plate_PR27.png', 'plate_PR62.png', 'plate_PR69.png', 'plate_PU53.png', 'plate_PV24.png', 'plate_PX33.png', 'plate_PY02.png', 'plate_PZ30.png', 'plate_PZ45.png', 'plate_QA86.png', 'plate_QB22.png', 'plate_QC20.png', 'plate_QE16.png', 'plate_QF17.png', 'plate_QG41.png', 'plate_QI10.png', 'plate_QI24.png', 'plate_QJ84.png', 'plate_QK85.png', 'plate_QL45.png', 'plate_QM56.png', 'plate_QM95.png', 'plate_QN15.png', 'plate_QN41.png', 'plate_QN42.png', 'plate_QN68.png', 'plate_QP19.png', 'plate_QR24.png', 'plate_QR30.png', 'plate_QR87.png', 'plate_QS34.png', 'plate_QS82.png', 'plate_QT10.png', 'plate_QT87.png', 'plate_QU14.png', 'plate_QV16.png', 'plate_QW65.png', 'plate_QW83.png', 'plate_QX08.png', 'plate_QX30.png', 'plate_QX98.png', 'plate_QZ49.png', 'plate_QZ95.png', 'plate_RA55.png', 'plate_RB44.png', 'plate_RB77.png', 'plate_RC15.png', 'plate_RE60.png', 'plate_RF09.png', 'plate_RF90.png', 'plate_RH19.png', 'plate_RK55.png', 'plate_RL01.png', 'plate_RL10.png', 'plate_RL43.png', 'plate_RM15.png', 'plate_RO38.png', 'plate_RO58.png', 'plate_RO76.png', 'plate_RP50.png', 'plate_RQ48.png', 'plate_RR55.png', 'plate_RR71.png', 'plate_RS37.png', 'plate_RS63.png', 'plate_RS80.png', 'plate_RT33.png', 'plate_RT61.png', 'plate_RV67.png', 'plate_RV82.png', 'plate_RW23.png', 'plate_RX03.png', 'plate_RX87.png', 'plate_RY06.png', 'plate_RZ21.png', 'plate_RZ34.png', 'plate_RZ59.png', 'plate_SB16.png', 'plate_SB77.png', 'plate_SC00.png', 'plate_SD46.png', 'plate_SD51.png', 'plate_SD57.png', 'plate_SE72.png', 'plate_SF24.png', 'plate_SG88.png', 'plate_SH68.png', 'plate_SL55.png', 'plate_SM26.png', 'plate_SM48.png', 'plate_SN33.png', 'plate_SN75.png', 'plate_SN93.png', 'plate_SO78.png', 'plate_SP57.png', 'plate_SR12.png', 'plate_SR32.png', 'plate_SS98.png', 'plate_ST00.png', 'plate_ST08.png', 'plate_ST24.png', 'plate_SU31.png', 'plate_SV13.png', 'plate_SV81.png', 'plate_SV83.png', 'plate_SW59.png', 'plate_SX69.png', 'plate_SX82.png', 'plate_SZ19.png', 'plate_TA30.png', 'plate_TA91.png', 'plate_TB24.png', 'plate_TB78.png', 'plate_TB87.png', 'plate_TB94.png', 'plate_TC85.png', 'plate_TD15.png', 'plate_TD23.png', 'plate_TD32.png', 'plate_TE27.png', 'plate_TE56.png', 'plate_TE80.png', 'plate_TF67.png', 'plate_TG09.png', 'plate_TG23.png', 'plate_TG66.png', 'plate_TG86.png', 'plate_TG99.png', 'plate_TH52.png', 'plate_TJ60.png', 'plate_TK22.png', 'plate_TM65.png', 'plate_TM87.png', 'plate_TN25.png', 'plate_TN51.png', 'plate_TO42.png', 'plate_TO80.png', 'plate_TP98.png', 'plate_TQ12.png', 'plate_TQ62.png', 'plate_TQ84.png', 'plate_TR05.png', 'plate_TR74.png', 'plate_TS00.png', 'plate_TU45.png', 'plate_TU65.png', 'plate_TU76.png', 'plate_TW03.png', 'plate_TW57.png', 'plate_TX31.png', 'plate_TX41.png', 'plate_TX47.png', 'plate_TY25.png', 'plate_TY59.png', 'plate_TY67.png', 'plate_UA08.png', 'plate_UA09.png', 'plate_UC12.png', 'plate_UC59.png', 'plate_UD27.png', 'plate_UE46.png', 'plate_UE62.png', 'plate_UE84.png', 'plate_UE89.png', 'plate_UG32.png', 'plate_UG34.png', 'plate_UG52.png', 'plate_UG84.png', 'plate_UG86.png', 'plate_UH55.png', 'plate_UH65.png', 'plate_UH83.png', 'plate_UI48.png', 'plate_UI75.png', 'plate_UI94.png', 'plate_UJ00.png', 'plate_UK28.png', 'plate_UK70.png', 'plate_UK79.png', 'plate_UK96.png', 'plate_UL34.png', 'plate_UM35.png', 'plate_UM83.png', 'plate_UM94.png', 'plate_UN53.png', 'plate_UO90.png', 'plate_UP10.png', 'plate_UP49.png', 'plate_UP95.png', 'plate_UQ90.png', 'plate_UT42.png', 'plate_UU01.png', 'plate_UU48.png', 'plate_UU54.png', 'plate_UU60.png', 'plate_UU61.png', 'plate_UV15.png', 'plate_UV78.png', 'plate_UW71.png', 'plate_UY07.png', 'plate_UZ13.png', 'plate_VA14.png', 'plate_VB31.png', 'plate_VB37.png', 'plate_VB71.png', 'plate_VC39.png', 'plate_VD64.png', 'plate_VD88.png', 'plate_VE52.png', 'plate_VF04.png', 'plate_VF43.png', 'plate_VF51.png', 'plate_VG12.png', 'plate_VG86.png', 'plate_VI48.png', 'plate_VI49.png', 'plate_VK98.png', 'plate_VN43.png', 'plate_VN80.png', 'plate_VO25.png', 'plate_VP85.png', 'plate_VQ42.png', 'plate_VR05.png', 'plate_VS19.png', 'plate_VT28.png', 'plate_VT90.png', 'plate_VU07.png', 'plate_VV89.png', 'plate_VW06.png', 'plate_VX42.png', 'plate_VY09.png', 'plate_VY52.png', 'plate_WB76.png', 'plate_WB82.png', 'plate_WC38.png', 'plate_WC71.png', 'plate_WD56.png', 'plate_WD88.png', 'plate_WF16.png', 'plate_WF76.png', 'plate_WG23.png', 'plate_WH58.png', 'plate_WH80.png', 'plate_WI48.png', 'plate_WJ57.png', 'plate_WK04.png', 'plate_WK45.png', 'plate_WK86.png', 'plate_WM71.png', 'plate_WP42.png', 'plate_WP44.png', 'plate_WQ96.png', 'plate_WR12.png', 'plate_WR47.png', 'plate_WS13.png', 'plate_WS37.png', 'plate_WS66.png', 'plate_WU28.png', 'plate_WU71.png', 'plate_WU75.png', 'plate_WW04.png', 'plate_WX65.png', 'plate_WX77.png', 'plate_WX92.png', 'plate_WZ22.png', 'plate_WZ74.png', 'plate_XA86.png', 'plate_XA99.png', 'plate_XB52.png', 'plate_XD18.png', 'plate_XD96.png', 'plate_XE17.png', 'plate_XE83.png', 'plate_XF04.png', 'plate_XF25.png', 'plate_XF85.png', 'plate_XH35.png', 'plate_XI86.png', 'plate_XK14.png', 'plate_XK25.png', 'plate_XM06.png', 'plate_XN12.png', 'plate_XN97.png', 'plate_XO80.png', 'plate_XP11.png', 'plate_XQ69.png', 'plate_XQ98.png', 'plate_XS69.png', 'plate_XT59.png', 'plate_XU00.png', 'plate_XU04.png', 'plate_XV10.png', 'plate_XV26.png', 'plate_XV93.png', 'plate_XW05.png', 'plate_XW26.png', 'plate_XW60.png', 'plate_XX43.png', 'plate_XZ32.png', 'plate_YC42.png', 'plate_YD81.png', 'plate_YE21.png', 'plate_YE81.png', 'plate_YF48.png', 'plate_YH30.png', 'plate_YI01.png', 'plate_YI47.png', 'plate_YJ05.png', 'plate_YJ44.png', 'plate_YJ74.png', 'plate_YK24.png', 'plate_YK55.png', 'plate_YL05.png', 'plate_YL36.png', 'plate_YL60.png', 'plate_YL71.png', 'plate_YM28.png', 'plate_YM49.png', 'plate_YM79.png', 'plate_YP66.png', 'plate_YQ47.png', 'plate_YS53.png', 'plate_YS55.png', 'plate_YT53.png', 'plate_YU11.png', 'plate_YU21.png', 'plate_YU37.png', 'plate_YU42.png', 'plate_YU45.png', 'plate_YU55.png', 'plate_YU57.png', 'plate_YU72.png', 'plate_YW22.png', 'plate_YW38.png', 'plate_YW67.png', 'plate_YX30.png', 'plate_YX89.png', 'plate_YY30.png', 'plate_YY55.png', 'plate_ZB47.png', 'plate_ZB51.png', 'plate_ZB98.png', 'plate_ZD79.png', 'plate_ZE22.png', 'plate_ZE27.png', 'plate_ZF54.png', 'plate_ZF94.png', 'plate_ZI55.png', 'plate_ZK46.png', 'plate_ZK60.png', 'plate_ZL10.png', 'plate_ZL13.png', 'plate_ZL24.png', 'plate_ZL25.png', 'plate_ZL41.png', 'plate_ZM04.png', 'plate_ZM38.png', 'plate_ZN07.png', 'plate_ZO13.png', 'plate_ZO72.png', 'plate_ZP13.png', 'plate_ZQ36.png', 'plate_ZR08.png', 'plate_ZS21.png', 'plate_ZT96.png', 'plate_ZU50.png', 'plate_ZV25.png', 'plate_ZV87.png', 'plate_ZW90.png', 'plate_ZY75.png', 'plate_ZZ10.png', 'plate_ZZ16.png', 'plate_ZZ18.png']\n"
          ]
        }
      ]
    },
    {
      "cell_type": "code",
      "source": [
        "test_plates = np.array([np.array(Image.open(f'{PATH}/{file}'))\n",
        "                    for file in files[:]])\n",
        "\n",
        "print(test_plates.shape)\n",
        "print(len(files))"
      ],
      "metadata": {
        "colab": {
          "base_uri": "https://localhost:8080/"
        },
        "id": "D2LyJuNHM-Dg",
        "outputId": "0a4434bb-328e-4470-b909-7747ba5ca689"
      },
      "execution_count": null,
      "outputs": [
        {
          "output_type": "stream",
          "name": "stdout",
          "text": [
            "(991, 298, 600, 3)\n",
            "991\n"
          ]
        }
      ]
    },
    {
      "cell_type": "code",
      "source": [
        "# We will use this custom filter function in addition to the standard \n",
        "# augmentation techniques. You will want to modify this function to fit your \n",
        "# needs.\n",
        "\n",
        "def my_filter(image):\n",
        "  '''\n",
        "  @brief filter that introduces rescaling artifacts and changes the color \n",
        "         channel order to match plt.imshow() format\n",
        "  @param image: input image to be modified\n",
        "  @retval image with \n",
        "  '''\n",
        "  resize_factor = 0.1\n",
        "  initial_shape = image.shape\n",
        "  #Need to reverse the order of width and height because PIL format is reversed \n",
        "  #from cv2 format.\n",
        "  initial_shape = tuple(reversed(initial_shape[0:2])) + (initial_shape[2],)\n",
        "\n",
        "  #resize height and width\n",
        "  small_shape = tuple((np.array(initial_shape[0:2]) * resize_factor).astype(int))\n",
        "\n",
        "  #scale down and scale back up to introduce rescaling artifacts\n",
        "  res = cv2.resize(image, dsize=small_shape, interpolation=cv2.INTER_LINEAR)\n",
        "  res = cv2.resize(res, dsize=initial_shape[0:2], interpolation=cv2.INTER_NEAREST)\n",
        "\n",
        "  #rearrange the color channels so imshow displays the appropriate colors\n",
        "  res = cv2.cvtColor(res, cv2.COLOR_BGR2RGB)\n",
        "  return res"
      ],
      "metadata": {
        "id": "YYD68FLMNA8_"
      },
      "execution_count": null,
      "outputs": []
    },
    {
      "cell_type": "code",
      "source": [
        "%tensorflow_version 1.14.0"
      ],
      "metadata": {
        "colab": {
          "base_uri": "https://localhost:8080/"
        },
        "id": "R5kH-OGIPPvO",
        "outputId": "37578fb1-5247-439b-d83f-f536cb390658"
      },
      "execution_count": null,
      "outputs": [
        {
          "output_type": "stream",
          "name": "stdout",
          "text": [
            "`%tensorflow_version` only switches the major version: 1.x or 2.x.\n",
            "You set: `1.14.0`. This will be interpreted as: `1.x`.\n",
            "\n",
            "\n",
            "TensorFlow is already loaded. Please restart the runtime to change versions.\n"
          ]
        }
      ]
    },
    {
      "cell_type": "code",
      "source": [
        "from tensorflow.keras.preprocessing.image import ImageDataGenerator\n",
        "from matplotlib import pyplot as plt"
      ],
      "metadata": {
        "id": "u9hUV9wkPO2z"
      },
      "execution_count": null,
      "outputs": []
    },
    {
      "cell_type": "code",
      "source": [
        "#Create a data generating object - check out \n",
        "datagen = ImageDataGenerator(fill_mode='constant',\n",
        "                             preprocessing_function=my_filter,\n",
        "                             zoom_range=0.1,\n",
        "                             width_shift_range=0.1, height_shift_range=0.1,\n",
        "                             brightness_range=[0.2,1.3],\n",
        "                             rotation_range=5)\n",
        "\n",
        "aug_iter = datagen.flow(test_plates, batch_size=1)"
      ],
      "metadata": {
        "id": "vW5bckw2NV71"
      },
      "execution_count": null,
      "outputs": []
    },
    {
      "cell_type": "code",
      "source": [
        "for i in range(991):\n",
        "  image = next(aug_iter)[0].astype('uint8')\n",
        "  cv2.imwrite(os.path.join(PATH, \"plate_{}.png\".format(i)), image)"
      ],
      "metadata": {
        "id": "-3bc6UO-NW1R"
      },
      "execution_count": null,
      "outputs": []
    }
  ]
}